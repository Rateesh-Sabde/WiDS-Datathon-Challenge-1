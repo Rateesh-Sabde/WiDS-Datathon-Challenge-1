{
 "cells": [
  {
   "cell_type": "markdown",
   "metadata": {},
   "source": [
    "# EE769 Programming Assignment 2\n",
    "Rateesh Sabde      18D170027"
   ]
  },
  {
   "cell_type": "markdown",
   "metadata": {},
   "source": [
    "### Import statements"
   ]
  },
  {
   "cell_type": "code",
   "execution_count": 1,
   "metadata": {},
   "outputs": [],
   "source": [
    "import numpy as np\n",
    "import pandas as pd\n",
    "from matplotlib import pyplot as plt\n",
    "import seaborn as sns"
   ]
  },
  {
   "cell_type": "markdown",
   "metadata": {},
   "source": [
    "### Read and display the data"
   ]
  },
  {
   "cell_type": "code",
   "execution_count": 2,
   "metadata": {},
   "outputs": [
    {
     "data": {
      "text/html": [
       "<div>\n",
       "<style scoped>\n",
       "    .dataframe tbody tr th:only-of-type {\n",
       "        vertical-align: middle;\n",
       "    }\n",
       "\n",
       "    .dataframe tbody tr th {\n",
       "        vertical-align: top;\n",
       "    }\n",
       "\n",
       "    .dataframe thead th {\n",
       "        text-align: right;\n",
       "    }\n",
       "</style>\n",
       "<table border=\"1\" class=\"dataframe\">\n",
       "  <thead>\n",
       "    <tr style=\"text-align: right;\">\n",
       "      <th></th>\n",
       "      <th>DYRK1A_N</th>\n",
       "      <th>ITSN1_N</th>\n",
       "      <th>BDNF_N</th>\n",
       "      <th>NR1_N</th>\n",
       "      <th>NR2A_N</th>\n",
       "      <th>pAKT_N</th>\n",
       "      <th>pBRAF_N</th>\n",
       "      <th>pCAMKII_N</th>\n",
       "      <th>pCREB_N</th>\n",
       "      <th>pELK_N</th>\n",
       "      <th>...</th>\n",
       "      <th>BCL2_N</th>\n",
       "      <th>pS6_N</th>\n",
       "      <th>pCFOS_N</th>\n",
       "      <th>SYP_N</th>\n",
       "      <th>H3AcK18_N</th>\n",
       "      <th>EGR1_N</th>\n",
       "      <th>H3MeK4_N</th>\n",
       "      <th>CaNA_N</th>\n",
       "      <th>Genotype</th>\n",
       "      <th>Treatment_Behavior</th>\n",
       "    </tr>\n",
       "  </thead>\n",
       "  <tbody>\n",
       "    <tr>\n",
       "      <th>0</th>\n",
       "      <td>0.503644</td>\n",
       "      <td>0.747193</td>\n",
       "      <td>0.430175</td>\n",
       "      <td>2.816329</td>\n",
       "      <td>5.990152</td>\n",
       "      <td>0.218830</td>\n",
       "      <td>0.177565</td>\n",
       "      <td>2.373744</td>\n",
       "      <td>0.232224</td>\n",
       "      <td>1.750936</td>\n",
       "      <td>...</td>\n",
       "      <td>NaN</td>\n",
       "      <td>0.106305</td>\n",
       "      <td>0.108336</td>\n",
       "      <td>0.427099</td>\n",
       "      <td>0.114783</td>\n",
       "      <td>0.131790</td>\n",
       "      <td>0.128186</td>\n",
       "      <td>1.675652</td>\n",
       "      <td>Control</td>\n",
       "      <td>Memantine_C/S</td>\n",
       "    </tr>\n",
       "    <tr>\n",
       "      <th>1</th>\n",
       "      <td>0.514617</td>\n",
       "      <td>0.689064</td>\n",
       "      <td>0.411770</td>\n",
       "      <td>2.789514</td>\n",
       "      <td>5.685038</td>\n",
       "      <td>0.211636</td>\n",
       "      <td>0.172817</td>\n",
       "      <td>2.292150</td>\n",
       "      <td>0.226972</td>\n",
       "      <td>1.596377</td>\n",
       "      <td>...</td>\n",
       "      <td>NaN</td>\n",
       "      <td>0.106592</td>\n",
       "      <td>0.104315</td>\n",
       "      <td>0.441581</td>\n",
       "      <td>0.111974</td>\n",
       "      <td>0.135103</td>\n",
       "      <td>0.131119</td>\n",
       "      <td>1.743610</td>\n",
       "      <td>Control</td>\n",
       "      <td>Memantine_C/S</td>\n",
       "    </tr>\n",
       "    <tr>\n",
       "      <th>2</th>\n",
       "      <td>0.509183</td>\n",
       "      <td>0.730247</td>\n",
       "      <td>0.418309</td>\n",
       "      <td>2.687201</td>\n",
       "      <td>5.622059</td>\n",
       "      <td>0.209011</td>\n",
       "      <td>0.175722</td>\n",
       "      <td>2.283337</td>\n",
       "      <td>0.230247</td>\n",
       "      <td>1.561316</td>\n",
       "      <td>...</td>\n",
       "      <td>NaN</td>\n",
       "      <td>0.108303</td>\n",
       "      <td>0.106219</td>\n",
       "      <td>0.435777</td>\n",
       "      <td>0.111883</td>\n",
       "      <td>0.133362</td>\n",
       "      <td>0.127431</td>\n",
       "      <td>1.926427</td>\n",
       "      <td>Control</td>\n",
       "      <td>Memantine_C/S</td>\n",
       "    </tr>\n",
       "    <tr>\n",
       "      <th>3</th>\n",
       "      <td>0.442107</td>\n",
       "      <td>0.617076</td>\n",
       "      <td>0.358626</td>\n",
       "      <td>2.466947</td>\n",
       "      <td>4.979503</td>\n",
       "      <td>0.222886</td>\n",
       "      <td>0.176463</td>\n",
       "      <td>2.152301</td>\n",
       "      <td>0.207004</td>\n",
       "      <td>1.595086</td>\n",
       "      <td>...</td>\n",
       "      <td>NaN</td>\n",
       "      <td>0.103184</td>\n",
       "      <td>0.111262</td>\n",
       "      <td>0.391691</td>\n",
       "      <td>0.130405</td>\n",
       "      <td>0.147444</td>\n",
       "      <td>0.146901</td>\n",
       "      <td>1.700563</td>\n",
       "      <td>Control</td>\n",
       "      <td>Memantine_C/S</td>\n",
       "    </tr>\n",
       "    <tr>\n",
       "      <th>4</th>\n",
       "      <td>0.434940</td>\n",
       "      <td>0.617430</td>\n",
       "      <td>0.358802</td>\n",
       "      <td>2.365785</td>\n",
       "      <td>4.718679</td>\n",
       "      <td>0.213106</td>\n",
       "      <td>0.173627</td>\n",
       "      <td>2.134014</td>\n",
       "      <td>0.192158</td>\n",
       "      <td>1.504230</td>\n",
       "      <td>...</td>\n",
       "      <td>NaN</td>\n",
       "      <td>0.104784</td>\n",
       "      <td>0.110694</td>\n",
       "      <td>0.434154</td>\n",
       "      <td>0.118481</td>\n",
       "      <td>0.140314</td>\n",
       "      <td>0.148380</td>\n",
       "      <td>1.839730</td>\n",
       "      <td>Control</td>\n",
       "      <td>Memantine_C/S</td>\n",
       "    </tr>\n",
       "    <tr>\n",
       "      <th>...</th>\n",
       "      <td>...</td>\n",
       "      <td>...</td>\n",
       "      <td>...</td>\n",
       "      <td>...</td>\n",
       "      <td>...</td>\n",
       "      <td>...</td>\n",
       "      <td>...</td>\n",
       "      <td>...</td>\n",
       "      <td>...</td>\n",
       "      <td>...</td>\n",
       "      <td>...</td>\n",
       "      <td>...</td>\n",
       "      <td>...</td>\n",
       "      <td>...</td>\n",
       "      <td>...</td>\n",
       "      <td>...</td>\n",
       "      <td>...</td>\n",
       "      <td>...</td>\n",
       "      <td>...</td>\n",
       "      <td>...</td>\n",
       "      <td>...</td>\n",
       "    </tr>\n",
       "    <tr>\n",
       "      <th>757</th>\n",
       "      <td>0.394169</td>\n",
       "      <td>0.623696</td>\n",
       "      <td>0.316564</td>\n",
       "      <td>2.104045</td>\n",
       "      <td>3.314706</td>\n",
       "      <td>0.234529</td>\n",
       "      <td>0.200657</td>\n",
       "      <td>3.208804</td>\n",
       "      <td>0.221809</td>\n",
       "      <td>1.218951</td>\n",
       "      <td>...</td>\n",
       "      <td>0.110916</td>\n",
       "      <td>0.119428</td>\n",
       "      <td>0.115567</td>\n",
       "      <td>0.441207</td>\n",
       "      <td>0.148473</td>\n",
       "      <td>0.146192</td>\n",
       "      <td>0.190681</td>\n",
       "      <td>1.474465</td>\n",
       "      <td>Ts65Dn</td>\n",
       "      <td>Saline_S/C</td>\n",
       "    </tr>\n",
       "    <tr>\n",
       "      <th>758</th>\n",
       "      <td>0.401739</td>\n",
       "      <td>0.659571</td>\n",
       "      <td>0.321841</td>\n",
       "      <td>2.183930</td>\n",
       "      <td>3.411782</td>\n",
       "      <td>0.236546</td>\n",
       "      <td>0.190826</td>\n",
       "      <td>3.384350</td>\n",
       "      <td>0.231899</td>\n",
       "      <td>1.250487</td>\n",
       "      <td>...</td>\n",
       "      <td>0.110350</td>\n",
       "      <td>0.118081</td>\n",
       "      <td>0.108944</td>\n",
       "      <td>0.444913</td>\n",
       "      <td>0.153137</td>\n",
       "      <td>0.149798</td>\n",
       "      <td>0.197944</td>\n",
       "      <td>1.516605</td>\n",
       "      <td>Ts65Dn</td>\n",
       "      <td>Saline_S/C</td>\n",
       "    </tr>\n",
       "    <tr>\n",
       "      <th>759</th>\n",
       "      <td>0.382182</td>\n",
       "      <td>0.586545</td>\n",
       "      <td>0.318545</td>\n",
       "      <td>2.072000</td>\n",
       "      <td>3.073636</td>\n",
       "      <td>0.259636</td>\n",
       "      <td>0.202727</td>\n",
       "      <td>3.006364</td>\n",
       "      <td>0.223455</td>\n",
       "      <td>1.248727</td>\n",
       "      <td>...</td>\n",
       "      <td>0.133664</td>\n",
       "      <td>0.116134</td>\n",
       "      <td>0.114635</td>\n",
       "      <td>0.422789</td>\n",
       "      <td>0.148426</td>\n",
       "      <td>0.163649</td>\n",
       "      <td>0.191212</td>\n",
       "      <td>1.433514</td>\n",
       "      <td>Ts65Dn</td>\n",
       "      <td>Saline_S/C</td>\n",
       "    </tr>\n",
       "    <tr>\n",
       "      <th>760</th>\n",
       "      <td>0.365622</td>\n",
       "      <td>0.572209</td>\n",
       "      <td>0.297992</td>\n",
       "      <td>2.004931</td>\n",
       "      <td>2.783551</td>\n",
       "      <td>0.245333</td>\n",
       "      <td>0.190384</td>\n",
       "      <td>2.948221</td>\n",
       "      <td>0.217506</td>\n",
       "      <td>1.177527</td>\n",
       "      <td>...</td>\n",
       "      <td>0.136994</td>\n",
       "      <td>0.120649</td>\n",
       "      <td>0.120649</td>\n",
       "      <td>0.459901</td>\n",
       "      <td>0.146872</td>\n",
       "      <td>0.140640</td>\n",
       "      <td>0.213899</td>\n",
       "      <td>1.543274</td>\n",
       "      <td>Ts65Dn</td>\n",
       "      <td>Saline_S/C</td>\n",
       "    </tr>\n",
       "    <tr>\n",
       "      <th>761</th>\n",
       "      <td>0.365605</td>\n",
       "      <td>0.599499</td>\n",
       "      <td>0.301539</td>\n",
       "      <td>2.062813</td>\n",
       "      <td>2.952577</td>\n",
       "      <td>0.248568</td>\n",
       "      <td>0.198819</td>\n",
       "      <td>3.069435</td>\n",
       "      <td>0.226736</td>\n",
       "      <td>1.220472</td>\n",
       "      <td>...</td>\n",
       "      <td>0.120182</td>\n",
       "      <td>0.121738</td>\n",
       "      <td>0.110486</td>\n",
       "      <td>0.424228</td>\n",
       "      <td>0.173689</td>\n",
       "      <td>0.166268</td>\n",
       "      <td>0.206129</td>\n",
       "      <td>1.520110</td>\n",
       "      <td>Ts65Dn</td>\n",
       "      <td>Saline_S/C</td>\n",
       "    </tr>\n",
       "  </tbody>\n",
       "</table>\n",
       "<p>762 rows × 79 columns</p>\n",
       "</div>"
      ],
      "text/plain": [
       "     DYRK1A_N   ITSN1_N    BDNF_N     NR1_N    NR2A_N    pAKT_N   pBRAF_N  \\\n",
       "0    0.503644  0.747193  0.430175  2.816329  5.990152  0.218830  0.177565   \n",
       "1    0.514617  0.689064  0.411770  2.789514  5.685038  0.211636  0.172817   \n",
       "2    0.509183  0.730247  0.418309  2.687201  5.622059  0.209011  0.175722   \n",
       "3    0.442107  0.617076  0.358626  2.466947  4.979503  0.222886  0.176463   \n",
       "4    0.434940  0.617430  0.358802  2.365785  4.718679  0.213106  0.173627   \n",
       "..        ...       ...       ...       ...       ...       ...       ...   \n",
       "757  0.394169  0.623696  0.316564  2.104045  3.314706  0.234529  0.200657   \n",
       "758  0.401739  0.659571  0.321841  2.183930  3.411782  0.236546  0.190826   \n",
       "759  0.382182  0.586545  0.318545  2.072000  3.073636  0.259636  0.202727   \n",
       "760  0.365622  0.572209  0.297992  2.004931  2.783551  0.245333  0.190384   \n",
       "761  0.365605  0.599499  0.301539  2.062813  2.952577  0.248568  0.198819   \n",
       "\n",
       "     pCAMKII_N   pCREB_N    pELK_N  ...    BCL2_N     pS6_N   pCFOS_N  \\\n",
       "0     2.373744  0.232224  1.750936  ...       NaN  0.106305  0.108336   \n",
       "1     2.292150  0.226972  1.596377  ...       NaN  0.106592  0.104315   \n",
       "2     2.283337  0.230247  1.561316  ...       NaN  0.108303  0.106219   \n",
       "3     2.152301  0.207004  1.595086  ...       NaN  0.103184  0.111262   \n",
       "4     2.134014  0.192158  1.504230  ...       NaN  0.104784  0.110694   \n",
       "..         ...       ...       ...  ...       ...       ...       ...   \n",
       "757   3.208804  0.221809  1.218951  ...  0.110916  0.119428  0.115567   \n",
       "758   3.384350  0.231899  1.250487  ...  0.110350  0.118081  0.108944   \n",
       "759   3.006364  0.223455  1.248727  ...  0.133664  0.116134  0.114635   \n",
       "760   2.948221  0.217506  1.177527  ...  0.136994  0.120649  0.120649   \n",
       "761   3.069435  0.226736  1.220472  ...  0.120182  0.121738  0.110486   \n",
       "\n",
       "        SYP_N  H3AcK18_N    EGR1_N  H3MeK4_N    CaNA_N  Genotype  \\\n",
       "0    0.427099   0.114783  0.131790  0.128186  1.675652   Control   \n",
       "1    0.441581   0.111974  0.135103  0.131119  1.743610   Control   \n",
       "2    0.435777   0.111883  0.133362  0.127431  1.926427   Control   \n",
       "3    0.391691   0.130405  0.147444  0.146901  1.700563   Control   \n",
       "4    0.434154   0.118481  0.140314  0.148380  1.839730   Control   \n",
       "..        ...        ...       ...       ...       ...       ...   \n",
       "757  0.441207   0.148473  0.146192  0.190681  1.474465    Ts65Dn   \n",
       "758  0.444913   0.153137  0.149798  0.197944  1.516605    Ts65Dn   \n",
       "759  0.422789   0.148426  0.163649  0.191212  1.433514    Ts65Dn   \n",
       "760  0.459901   0.146872  0.140640  0.213899  1.543274    Ts65Dn   \n",
       "761  0.424228   0.173689  0.166268  0.206129  1.520110    Ts65Dn   \n",
       "\n",
       "     Treatment_Behavior  \n",
       "0         Memantine_C/S  \n",
       "1         Memantine_C/S  \n",
       "2         Memantine_C/S  \n",
       "3         Memantine_C/S  \n",
       "4         Memantine_C/S  \n",
       "..                  ...  \n",
       "757          Saline_S/C  \n",
       "758          Saline_S/C  \n",
       "759          Saline_S/C  \n",
       "760          Saline_S/C  \n",
       "761          Saline_S/C  \n",
       "\n",
       "[762 rows x 79 columns]"
      ]
     },
     "metadata": {},
     "output_type": "display_data"
    },
    {
     "data": {
      "text/html": [
       "<div>\n",
       "<style scoped>\n",
       "    .dataframe tbody tr th:only-of-type {\n",
       "        vertical-align: middle;\n",
       "    }\n",
       "\n",
       "    .dataframe tbody tr th {\n",
       "        vertical-align: top;\n",
       "    }\n",
       "\n",
       "    .dataframe thead th {\n",
       "        text-align: right;\n",
       "    }\n",
       "</style>\n",
       "<table border=\"1\" class=\"dataframe\">\n",
       "  <thead>\n",
       "    <tr style=\"text-align: right;\">\n",
       "      <th></th>\n",
       "      <th>DYRK1A_N</th>\n",
       "      <th>ITSN1_N</th>\n",
       "      <th>BDNF_N</th>\n",
       "      <th>NR1_N</th>\n",
       "      <th>NR2A_N</th>\n",
       "      <th>pAKT_N</th>\n",
       "      <th>pBRAF_N</th>\n",
       "      <th>pCAMKII_N</th>\n",
       "      <th>pCREB_N</th>\n",
       "      <th>pELK_N</th>\n",
       "      <th>...</th>\n",
       "      <th>BCL2_N</th>\n",
       "      <th>pS6_N</th>\n",
       "      <th>pCFOS_N</th>\n",
       "      <th>SYP_N</th>\n",
       "      <th>H3AcK18_N</th>\n",
       "      <th>EGR1_N</th>\n",
       "      <th>H3MeK4_N</th>\n",
       "      <th>CaNA_N</th>\n",
       "      <th>Genotype</th>\n",
       "      <th>Treatment_Behavior</th>\n",
       "    </tr>\n",
       "  </thead>\n",
       "  <tbody>\n",
       "    <tr>\n",
       "      <th>0</th>\n",
       "      <td>0.627582</td>\n",
       "      <td>0.954187</td>\n",
       "      <td>0.446958</td>\n",
       "      <td>2.930717</td>\n",
       "      <td>5.915039</td>\n",
       "      <td>0.197897</td>\n",
       "      <td>0.185599</td>\n",
       "      <td>1.765115</td>\n",
       "      <td>0.232257</td>\n",
       "      <td>1.808111</td>\n",
       "      <td>...</td>\n",
       "      <td>0.120835</td>\n",
       "      <td>0.148773</td>\n",
       "      <td>0.120885</td>\n",
       "      <td>0.541241</td>\n",
       "      <td>0.121674</td>\n",
       "      <td>0.158103</td>\n",
       "      <td>NaN</td>\n",
       "      <td>1.649983</td>\n",
       "      <td>Control</td>\n",
       "      <td>Memantine_C/S</td>\n",
       "    </tr>\n",
       "    <tr>\n",
       "      <th>1</th>\n",
       "      <td>0.651253</td>\n",
       "      <td>0.962021</td>\n",
       "      <td>0.464964</td>\n",
       "      <td>2.992689</td>\n",
       "      <td>5.975028</td>\n",
       "      <td>0.202810</td>\n",
       "      <td>0.188473</td>\n",
       "      <td>1.807824</td>\n",
       "      <td>0.259020</td>\n",
       "      <td>1.960691</td>\n",
       "      <td>...</td>\n",
       "      <td>0.130462</td>\n",
       "      <td>0.147660</td>\n",
       "      <td>0.128960</td>\n",
       "      <td>0.525966</td>\n",
       "      <td>0.126780</td>\n",
       "      <td>0.163405</td>\n",
       "      <td>NaN</td>\n",
       "      <td>1.638988</td>\n",
       "      <td>Control</td>\n",
       "      <td>Memantine_C/S</td>\n",
       "    </tr>\n",
       "    <tr>\n",
       "      <th>2</th>\n",
       "      <td>0.644346</td>\n",
       "      <td>0.967179</td>\n",
       "      <td>0.470056</td>\n",
       "      <td>3.073847</td>\n",
       "      <td>5.927379</td>\n",
       "      <td>0.205131</td>\n",
       "      <td>0.182590</td>\n",
       "      <td>1.783552</td>\n",
       "      <td>0.258795</td>\n",
       "      <td>2.147883</td>\n",
       "      <td>...</td>\n",
       "      <td>0.118851</td>\n",
       "      <td>0.143169</td>\n",
       "      <td>0.129154</td>\n",
       "      <td>0.508214</td>\n",
       "      <td>0.122796</td>\n",
       "      <td>0.160293</td>\n",
       "      <td>NaN</td>\n",
       "      <td>1.564925</td>\n",
       "      <td>Control</td>\n",
       "      <td>Memantine_C/S</td>\n",
       "    </tr>\n",
       "    <tr>\n",
       "      <th>3</th>\n",
       "      <td>0.568229</td>\n",
       "      <td>0.812018</td>\n",
       "      <td>0.393465</td>\n",
       "      <td>2.606780</td>\n",
       "      <td>5.808102</td>\n",
       "      <td>0.218211</td>\n",
       "      <td>0.179905</td>\n",
       "      <td>2.312324</td>\n",
       "      <td>0.209154</td>\n",
       "      <td>1.733692</td>\n",
       "      <td>...</td>\n",
       "      <td>0.116218</td>\n",
       "      <td>0.140063</td>\n",
       "      <td>0.127661</td>\n",
       "      <td>0.561721</td>\n",
       "      <td>0.123122</td>\n",
       "      <td>0.156108</td>\n",
       "      <td>NaN</td>\n",
       "      <td>1.682222</td>\n",
       "      <td>Control</td>\n",
       "      <td>Memantine_C/S</td>\n",
       "    </tr>\n",
       "    <tr>\n",
       "      <th>4</th>\n",
       "      <td>0.587038</td>\n",
       "      <td>0.863728</td>\n",
       "      <td>0.411203</td>\n",
       "      <td>2.757975</td>\n",
       "      <td>6.006657</td>\n",
       "      <td>0.223688</td>\n",
       "      <td>0.189400</td>\n",
       "      <td>2.375283</td>\n",
       "      <td>0.218538</td>\n",
       "      <td>1.843255</td>\n",
       "      <td>...</td>\n",
       "      <td>0.142739</td>\n",
       "      <td>0.140775</td>\n",
       "      <td>0.121389</td>\n",
       "      <td>0.534845</td>\n",
       "      <td>0.133996</td>\n",
       "      <td>0.180373</td>\n",
       "      <td>NaN</td>\n",
       "      <td>1.660352</td>\n",
       "      <td>Control</td>\n",
       "      <td>Memantine_C/S</td>\n",
       "    </tr>\n",
       "    <tr>\n",
       "      <th>...</th>\n",
       "      <td>...</td>\n",
       "      <td>...</td>\n",
       "      <td>...</td>\n",
       "      <td>...</td>\n",
       "      <td>...</td>\n",
       "      <td>...</td>\n",
       "      <td>...</td>\n",
       "      <td>...</td>\n",
       "      <td>...</td>\n",
       "      <td>...</td>\n",
       "      <td>...</td>\n",
       "      <td>...</td>\n",
       "      <td>...</td>\n",
       "      <td>...</td>\n",
       "      <td>...</td>\n",
       "      <td>...</td>\n",
       "      <td>...</td>\n",
       "      <td>...</td>\n",
       "      <td>...</td>\n",
       "      <td>...</td>\n",
       "      <td>...</td>\n",
       "    </tr>\n",
       "    <tr>\n",
       "      <th>220</th>\n",
       "      <td>0.226900</td>\n",
       "      <td>0.395432</td>\n",
       "      <td>0.248694</td>\n",
       "      <td>1.460666</td>\n",
       "      <td>1.860128</td>\n",
       "      <td>0.188536</td>\n",
       "      <td>0.148977</td>\n",
       "      <td>2.178982</td>\n",
       "      <td>0.165398</td>\n",
       "      <td>0.770115</td>\n",
       "      <td>...</td>\n",
       "      <td>0.157209</td>\n",
       "      <td>0.122747</td>\n",
       "      <td>0.134559</td>\n",
       "      <td>0.400268</td>\n",
       "      <td>0.228568</td>\n",
       "      <td>0.233317</td>\n",
       "      <td>0.283853</td>\n",
       "      <td>1.160740</td>\n",
       "      <td>Ts65Dn</td>\n",
       "      <td>Saline_S/C</td>\n",
       "    </tr>\n",
       "    <tr>\n",
       "      <th>221</th>\n",
       "      <td>0.261107</td>\n",
       "      <td>0.443780</td>\n",
       "      <td>0.276658</td>\n",
       "      <td>1.674129</td>\n",
       "      <td>2.256494</td>\n",
       "      <td>0.218216</td>\n",
       "      <td>0.176008</td>\n",
       "      <td>2.475735</td>\n",
       "      <td>0.184040</td>\n",
       "      <td>0.913363</td>\n",
       "      <td>...</td>\n",
       "      <td>0.151454</td>\n",
       "      <td>0.119881</td>\n",
       "      <td>0.131988</td>\n",
       "      <td>0.407596</td>\n",
       "      <td>0.228843</td>\n",
       "      <td>0.226944</td>\n",
       "      <td>0.249970</td>\n",
       "      <td>1.139347</td>\n",
       "      <td>Ts65Dn</td>\n",
       "      <td>Saline_S/C</td>\n",
       "    </tr>\n",
       "    <tr>\n",
       "      <th>222</th>\n",
       "      <td>0.216134</td>\n",
       "      <td>0.364058</td>\n",
       "      <td>0.241693</td>\n",
       "      <td>1.330831</td>\n",
       "      <td>1.737540</td>\n",
       "      <td>0.197125</td>\n",
       "      <td>0.151597</td>\n",
       "      <td>1.919489</td>\n",
       "      <td>0.162780</td>\n",
       "      <td>0.720767</td>\n",
       "      <td>...</td>\n",
       "      <td>0.171437</td>\n",
       "      <td>0.118758</td>\n",
       "      <td>0.146772</td>\n",
       "      <td>0.431334</td>\n",
       "      <td>0.255633</td>\n",
       "      <td>0.257004</td>\n",
       "      <td>0.304811</td>\n",
       "      <td>1.142205</td>\n",
       "      <td>Ts65Dn</td>\n",
       "      <td>Saline_S/C</td>\n",
       "    </tr>\n",
       "    <tr>\n",
       "      <th>223</th>\n",
       "      <td>0.212369</td>\n",
       "      <td>0.369960</td>\n",
       "      <td>0.239036</td>\n",
       "      <td>1.346827</td>\n",
       "      <td>1.814940</td>\n",
       "      <td>0.194538</td>\n",
       "      <td>0.143454</td>\n",
       "      <td>1.908112</td>\n",
       "      <td>0.155823</td>\n",
       "      <td>0.772530</td>\n",
       "      <td>...</td>\n",
       "      <td>0.177576</td>\n",
       "      <td>0.121366</td>\n",
       "      <td>0.152825</td>\n",
       "      <td>0.395408</td>\n",
       "      <td>0.245564</td>\n",
       "      <td>0.255852</td>\n",
       "      <td>0.308484</td>\n",
       "      <td>1.112718</td>\n",
       "      <td>Ts65Dn</td>\n",
       "      <td>Saline_S/C</td>\n",
       "    </tr>\n",
       "    <tr>\n",
       "      <th>224</th>\n",
       "      <td>0.257290</td>\n",
       "      <td>0.432628</td>\n",
       "      <td>0.289689</td>\n",
       "      <td>1.589289</td>\n",
       "      <td>2.125977</td>\n",
       "      <td>0.232704</td>\n",
       "      <td>0.177244</td>\n",
       "      <td>2.308557</td>\n",
       "      <td>0.181056</td>\n",
       "      <td>0.894797</td>\n",
       "      <td>...</td>\n",
       "      <td>0.172697</td>\n",
       "      <td>0.123290</td>\n",
       "      <td>0.163880</td>\n",
       "      <td>0.402706</td>\n",
       "      <td>0.245363</td>\n",
       "      <td>0.278048</td>\n",
       "      <td>0.326087</td>\n",
       "      <td>1.171785</td>\n",
       "      <td>Ts65Dn</td>\n",
       "      <td>Saline_S/C</td>\n",
       "    </tr>\n",
       "  </tbody>\n",
       "</table>\n",
       "<p>225 rows × 79 columns</p>\n",
       "</div>"
      ],
      "text/plain": [
       "     DYRK1A_N   ITSN1_N    BDNF_N     NR1_N    NR2A_N    pAKT_N   pBRAF_N  \\\n",
       "0    0.627582  0.954187  0.446958  2.930717  5.915039  0.197897  0.185599   \n",
       "1    0.651253  0.962021  0.464964  2.992689  5.975028  0.202810  0.188473   \n",
       "2    0.644346  0.967179  0.470056  3.073847  5.927379  0.205131  0.182590   \n",
       "3    0.568229  0.812018  0.393465  2.606780  5.808102  0.218211  0.179905   \n",
       "4    0.587038  0.863728  0.411203  2.757975  6.006657  0.223688  0.189400   \n",
       "..        ...       ...       ...       ...       ...       ...       ...   \n",
       "220  0.226900  0.395432  0.248694  1.460666  1.860128  0.188536  0.148977   \n",
       "221  0.261107  0.443780  0.276658  1.674129  2.256494  0.218216  0.176008   \n",
       "222  0.216134  0.364058  0.241693  1.330831  1.737540  0.197125  0.151597   \n",
       "223  0.212369  0.369960  0.239036  1.346827  1.814940  0.194538  0.143454   \n",
       "224  0.257290  0.432628  0.289689  1.589289  2.125977  0.232704  0.177244   \n",
       "\n",
       "     pCAMKII_N   pCREB_N    pELK_N  ...    BCL2_N     pS6_N   pCFOS_N  \\\n",
       "0     1.765115  0.232257  1.808111  ...  0.120835  0.148773  0.120885   \n",
       "1     1.807824  0.259020  1.960691  ...  0.130462  0.147660  0.128960   \n",
       "2     1.783552  0.258795  2.147883  ...  0.118851  0.143169  0.129154   \n",
       "3     2.312324  0.209154  1.733692  ...  0.116218  0.140063  0.127661   \n",
       "4     2.375283  0.218538  1.843255  ...  0.142739  0.140775  0.121389   \n",
       "..         ...       ...       ...  ...       ...       ...       ...   \n",
       "220   2.178982  0.165398  0.770115  ...  0.157209  0.122747  0.134559   \n",
       "221   2.475735  0.184040  0.913363  ...  0.151454  0.119881  0.131988   \n",
       "222   1.919489  0.162780  0.720767  ...  0.171437  0.118758  0.146772   \n",
       "223   1.908112  0.155823  0.772530  ...  0.177576  0.121366  0.152825   \n",
       "224   2.308557  0.181056  0.894797  ...  0.172697  0.123290  0.163880   \n",
       "\n",
       "        SYP_N  H3AcK18_N    EGR1_N  H3MeK4_N    CaNA_N  Genotype  \\\n",
       "0    0.541241   0.121674  0.158103       NaN  1.649983   Control   \n",
       "1    0.525966   0.126780  0.163405       NaN  1.638988   Control   \n",
       "2    0.508214   0.122796  0.160293       NaN  1.564925   Control   \n",
       "3    0.561721   0.123122  0.156108       NaN  1.682222   Control   \n",
       "4    0.534845   0.133996  0.180373       NaN  1.660352   Control   \n",
       "..        ...        ...       ...       ...       ...       ...   \n",
       "220  0.400268   0.228568  0.233317  0.283853  1.160740    Ts65Dn   \n",
       "221  0.407596   0.228843  0.226944  0.249970  1.139347    Ts65Dn   \n",
       "222  0.431334   0.255633  0.257004  0.304811  1.142205    Ts65Dn   \n",
       "223  0.395408   0.245564  0.255852  0.308484  1.112718    Ts65Dn   \n",
       "224  0.402706   0.245363  0.278048  0.326087  1.171785    Ts65Dn   \n",
       "\n",
       "     Treatment_Behavior  \n",
       "0         Memantine_C/S  \n",
       "1         Memantine_C/S  \n",
       "2         Memantine_C/S  \n",
       "3         Memantine_C/S  \n",
       "4         Memantine_C/S  \n",
       "..                  ...  \n",
       "220          Saline_S/C  \n",
       "221          Saline_S/C  \n",
       "222          Saline_S/C  \n",
       "223          Saline_S/C  \n",
       "224          Saline_S/C  \n",
       "\n",
       "[225 rows x 79 columns]"
      ]
     },
     "metadata": {},
     "output_type": "display_data"
    }
   ],
   "source": [
    "#Read data from source\n",
    "\n",
    "train_data = pd.read_csv(\"https://www.ee.iitb.ac.in/~asethi/Dump/MouseTrain.csv\")\n",
    "test_data = pd.read_csv(\"https://www.ee.iitb.ac.in/~asethi/Dump/MouseTest.csv\")\n",
    "\n",
    "#Display the data\n",
    "\n",
    "display(train_data)\n",
    "display(test_data)"
   ]
  },
  {
   "cell_type": "markdown",
   "metadata": {},
   "source": [
    "Observations:\n",
    "    1. Different columns have different scales\n",
    "    2. There are two classification problems (last 2 columns)\n",
    "Next we should:\n",
    "    1. Check the data type of each column\n",
    "    2. Check for missing values\n",
    "    3. Plot histograms of columns to check spread"
   ]
  },
  {
   "cell_type": "markdown",
   "metadata": {},
   "source": [
    "### Exploratory data analysis"
   ]
  },
  {
   "cell_type": "code",
   "execution_count": 3,
   "metadata": {},
   "outputs": [
    {
     "data": {
      "text/plain": [
       "DYRK1A_N              float64\n",
       "ITSN1_N               float64\n",
       "BDNF_N                float64\n",
       "NR1_N                 float64\n",
       "NR2A_N                float64\n",
       "                       ...   \n",
       "EGR1_N                float64\n",
       "H3MeK4_N              float64\n",
       "CaNA_N                float64\n",
       "Genotype               object\n",
       "Treatment_Behavior     object\n",
       "Length: 79, dtype: object"
      ]
     },
     "metadata": {},
     "output_type": "display_data"
    }
   ],
   "source": [
    "display(train_data.dtypes) #Checking for data types"
   ]
  },
  {
   "cell_type": "markdown",
   "metadata": {},
   "source": [
    "Observations: \n",
    "Good, all data types are float64 except for the last 2 columns. We will need to convert these into numerical values in order to perform classification.\n",
    "\n",
    "Next: Check for diversity in values. For the last two columns, this will give us an idea of the number of classes"
   ]
  },
  {
   "cell_type": "code",
   "execution_count": 4,
   "metadata": {},
   "outputs": [
    {
     "name": "stdout",
     "output_type": "stream",
     "text": [
      "ELK_N is of type float64, has 748 unique values, and 15 Null entries\n",
      "MEK_N is of type float64, has 759 unique values, and 4 Null entries\n",
      "Bcatenin_N is of type float64, has 748 unique values, and 15 Null entries\n",
      "BAD_N is of type float64, has 582 unique values, and 180 Null entries\n",
      "BCL2_N is of type float64, has 568 unique values, and 195 Null entries\n",
      "pCFOS_N is of type float64, has 703 unique values, and 60 Null entries\n",
      "H3AcK18_N is of type float64, has 613 unique values, and 150 Null entries\n",
      "EGR1_N is of type float64, has 583 unique values, and 180 Null entries\n",
      "H3MeK4_N is of type float64, has 583 unique values, and 180 Null entries\n",
      " These are: Control, Ts65Dn\n",
      " These are: Memantine_C/S, Memantine_S/C, Saline_C/S, Saline_S/C\n"
     ]
    }
   ],
   "source": [
    "#Code snippet taken from the ML for Monkeys video\n",
    "\n",
    "for col in train_data.columns.values:\n",
    "    list_vals = pd.unique(train_data[col])   #Create a list of unique values\n",
    "    if(train_data[col].isna().sum()!=0):    #uncomment to print only those columns which have null entries\n",
    "        print(col + ' is of type ' + str(train_data[col].dtypes) + ', has ' + str(len(list_vals)) + ' unique values, and ' + str(train_data[col].isna().sum()) + ' Null entries')\n",
    "    if(len(list_vals)<10):   #print list of values if it is less than 10\n",
    "        list_str = ''\n",
    "        for n_value in range(len(list_vals)):\n",
    "            list_str = list_str + str(list_vals[n_value]) + ', '\n",
    "        print(' These are: ' + list_str[0:len(list_str)-2])"
   ]
  },
  {
   "cell_type": "code",
   "execution_count": 5,
   "metadata": {},
   "outputs": [
    {
     "name": "stdout",
     "output_type": "stream",
     "text": [
      "BAD_N is of type float64, has 193 unique values, and 33 Null entries\n",
      "BCL2_N is of type float64, has 181 unique values, and 45 Null entries\n",
      "H3AcK18_N is of type float64, has 196 unique values, and 30 Null entries\n",
      "EGR1_N is of type float64, has 211 unique values, and 15 Null entries\n",
      "H3MeK4_N is of type float64, has 136 unique values, and 90 Null entries\n",
      " These are: Control, Ts65Dn\n",
      " These are: Memantine_C/S, Memantine_S/C, Saline_C/S, Saline_S/C\n"
     ]
    }
   ],
   "source": [
    "#Code snippet taken from the ML for Monkeys video\n",
    "\n",
    "for col in test_data.columns.values:\n",
    "    list_vals = pd.unique(test_data[col])   #Create a list of unique values\n",
    "    if(test_data[col].isna().sum()!=0):    #uncomment to print only those columns which have null entries\n",
    "        print(col + ' is of type ' + str(test_data[col].dtypes) + ', has ' + str(len(list_vals)) + ' unique values, and ' + str(test_data[col].isna().sum()) + ' Null entries')\n",
    "    if(len(list_vals)<10):   #print list of values if it is less than 10\n",
    "        list_str = ''\n",
    "        for n_value in range(len(list_vals)):\n",
    "            list_str = list_str + str(list_vals[n_value]) + ', '\n",
    "        print(' These are: ' + list_str[0:len(list_str)-2])"
   ]
  },
  {
   "cell_type": "markdown",
   "metadata": {},
   "source": [
    "Observations:\n",
    "    1. All the columns have a good diversity in the data.\n",
    "    2. MEK_N, ELK_N and Bcatenin_N have 4, 15 and 15 null entries respectively. We will impute these variables later.\n",
    "    3. BAD_N, BCL2_N, pCFOS_N, H3AcK18_N, EGR1_N and H3MeK4_N have too many null entries. We will be dropping these columns later.\n",
    "    4. To perform classification we will have to do one hot bit encoding for the classes in the last two rows\n",
    "Next:\n",
    "    Plot the distributions for visualization."
   ]
  },
  {
   "cell_type": "code",
   "execution_count": 6,
   "metadata": {},
   "outputs": [
    {
     "data": {
      "image/png": "[encoded data removed]",
      "text/plain": [
       "<Figure size 432x288 with 1 Axes>"
      ]
     },
     "metadata": {
      "needs_background": "light"
     },
     "output_type": "display_data"
    },
    {
     "data": {
      "image/png": "[encoded data removed]",
      "text/plain": [
       "<Figure size 432x288 with 1 Axes>"
      ]
     },
     "metadata": {
      "needs_background": "light"
     },
     "output_type": "display_data"
    },
    {
     "data": {
      "image/png": "[encoded data removed]",
      "text/plain": [
       "<Figure size 432x288 with 1 Axes>"
      ]
     },
     "metadata": {
      "needs_background": "light"
     },
     "output_type": "display_data"
    },
    {
     "data": {
      "image/png": "[encoded data removed]",
      "text/plain": [
       "<Figure size 432x288 with 1 Axes>"
      ]
     },
     "metadata": {
      "needs_background": "light"
     },
     "output_type": "display_data"
    },
    {
     "data": {
      "image/png": "[encoded data removed]",
      "text/plain": [
       "<Figure size 432x288 with 1 Axes>"
      ]
     },
     "metadata": {
      "needs_background": "light"
     },
     "output_type": "display_data"
    },
    {
     "data": {
      "image/png": "[encoded data removed]",
      "text/plain": [
       "<Figure size 432x288 with 1 Axes>"
      ]
     },
     "metadata": {
      "needs_background": "light"
     },
     "output_type": "display_data"
    },
    {
     "data": {
      "image/png": "[encoded data removed]",
      "text/plain": [
       "<Figure size 432x288 with 1 Axes>"
      ]
     },
     "metadata": {
      "needs_background": "light"
     },
     "output_type": "display_data"
    },
    {
     "data": {
      "image/png": "[encoded data removed]",
      "text/plain": [
       "<Figure size 432x288 with 1 Axes>"
      ]
     },
     "metadata": {
      "needs_background": "light"
     },
     "output_type": "display_data"
    },
    {
     "data": {
      "image/png": "[encoded data removed]",
      "text/plain": [
       "<Figure size 432x288 with 1 Axes>"
      ]
     },
     "metadata": {
      "needs_background": "light"
     },
     "output_type": "display_data"
    },
    {
     "data": {
      "image/png": "[encoded data removed]",
      "text/plain": [
       "<Figure size 432x288 with 1 Axes>"
      ]
     },
     "metadata": {
      "needs_background": "light"
     },
     "output_type": "display_data"
    },
    {
     "data": {
      "image/png": "[encoded data removed]",
      "text/plain": [
       "<Figure size 432x288 with 1 Axes>"
      ]
     },
     "metadata": {
      "needs_background": "light"
     },
     "output_type": "display_data"
    },
    {
     "data": {
      "image/png": "[encoded data removed]",
      "text/plain": [
       "<Figure size 432x288 with 1 Axes>"
      ]
     },
     "metadata": {
      "needs_background": "light"
     },
     "output_type": "display_data"
    },
    {
     "data": {
      "image/png": "[encoded data removed]",
      "text/plain": [
       "<Figure size 432x288 with 1 Axes>"
      ]
     },
     "metadata": {
      "needs_background": "light"
     },
     "output_type": "display_data"
    },
    {
     "data": {
      "image/png": "[encoded data removed]",
      "text/plain": [
       "<Figure size 432x288 with 1 Axes>"
      ]
     },
     "metadata": {
      "needs_background": "light"
     },
     "output_type": "display_data"
    },
    {
     "data": {
      "image/png": "[encoded data removed]",
      "text/plain": [
       "<Figure size 432x288 with 1 Axes>"
      ]
     },
     "metadata": {
      "needs_background": "light"
     },
     "output_type": "display_data"
    },
    {
     "data": {
      "image/png": "[encoded data removed]",
      "text/plain": [
       "<Figure size 432x288 with 1 Axes>"
      ]
     },
     "metadata": {
      "needs_background": "light"
     },
     "output_type": "display_data"
    },
    {
     "data": {
      "image/png": "[encoded data removed]",
      "text/plain": [
       "<Figure size 432x288 with 1 Axes>"
      ]
     },
     "metadata": {
      "needs_background": "light"
     },
     "output_type": "display_data"
    },
    {
     "data": {
      "image/png": "[encoded data removed]",
      "text/plain": [
       "<Figure size 432x288 with 1 Axes>"
      ]
     },
     "metadata": {
      "needs_background": "light"
     },
     "output_type": "display_data"
    },
    {
     "data": {
      "image/png": "[encoded data removed]",
      "text/plain": [
       "<Figure size 432x288 with 1 Axes>"
      ]
     },
     "metadata": {
      "needs_background": "light"
     },
     "output_type": "display_data"
    },
    {
     "data": {
      "image/png": "[encoded data removed]",
      "text/plain": [
       "<Figure size 432x288 with 1 Axes>"
      ]
     },
     "metadata": {
      "needs_background": "light"
     },
     "output_type": "display_data"
    },
    {
     "data": {
      "image/png": "[encoded data removed]",
      "text/plain": [
       "<Figure size 432x288 with 1 Axes>"
      ]
     },
     "metadata": {
      "needs_background": "light"
     },
     "output_type": "display_data"
    },
    {
     "data": {
      "image/png": "[encoded data removed]",
      "text/plain": [
       "<Figure size 432x288 with 1 Axes>"
      ]
     },
     "metadata": {
      "needs_background": "light"
     },
     "output_type": "display_data"
    },
    {
     "data": {
      "image/png": "[encoded data removed]",
      "text/plain": [
       "<Figure size 432x288 with 1 Axes>"
      ]
     },
     "metadata": {
      "needs_background": "light"
     },
     "output_type": "display_data"
    },
    {
     "name": "stderr",
     "output_type": "stream",
     "text": [
      "C:\\Users\\Public\\Anaconda\\lib\\site-packages\\numpy\\lib\\histograms.py:839: RuntimeWarning: invalid value encountered in greater_equal\n",
      "  keep = (tmp_a >= first_edge)\n",
      "C:\\Users\\Public\\Anaconda\\lib\\site-packages\\numpy\\lib\\histograms.py:840: RuntimeWarning: invalid value encountered in less_equal\n",
      "  keep &= (tmp_a <= last_edge)\n"
     ]
    },
    {
     "data": {
      "image/png": "[encoded data removed]",
      "text/plain": [
       "<Figure size 432x288 with 1 Axes>"
      ]
     },
     "metadata": {
      "needs_background": "light"
     },
     "output_type": "display_data"
    },
    {
     "data": {
      "image/png": "[encoded data removed]",
      "text/plain": [
       "<Figure size 432x288 with 1 Axes>"
      ]
     },
     "metadata": {
      "needs_background": "light"
     },
     "output_type": "display_data"
    },
    {
     "data": {
      "image/png": "[encoded data removed]",
      "text/plain": [
       "<Figure size 432x288 with 1 Axes>"
      ]
     },
     "metadata": {
      "needs_background": "light"
     },
     "output_type": "display_data"
    },
    {
     "data": {
      "image/png": "[encoded data removed]",
      "text/plain": [
       "<Figure size 432x288 with 1 Axes>"
      ]
     },
     "metadata": {
      "needs_background": "light"
     },
     "output_type": "display_data"
    },
    {
     "data": {
      "image/png": "[encoded data removed]",
      "text/plain": [
       "<Figure size 432x288 with 1 Axes>"
      ]
     },
     "metadata": {
      "needs_background": "light"
     },
     "output_type": "display_data"
    },
    {
     "data": {
      "image/png": "[encoded data removed]",
      "text/plain": [
       "<Figure size 432x288 with 1 Axes>"
      ]
     },
     "metadata": {
      "needs_background": "light"
     },
     "output_type": "display_data"
    },
    {
     "data": {
      "image/png": "[encoded data removed]",
      "text/plain": [
       "<Figure size 432x288 with 1 Axes>"
      ]
     },
     "metadata": {
      "needs_background": "light"
     },
     "output_type": "display_data"
    },
    {
     "data": {
      "image/png": "[encoded data removed]",
      "text/plain": [
       "<Figure size 432x288 with 1 Axes>"
      ]
     },
     "metadata": {
      "needs_background": "light"
     },
     "output_type": "display_data"
    },
    {
     "data": {
      "image/png": "[encoded data removed]",
      "text/plain": [
       "<Figure size 432x288 with 1 Axes>"
      ]
     },
     "metadata": {
      "needs_background": "light"
     },
     "output_type": "display_data"
    },
    {
     "data": {
      "image/png": "[encoded data removed]",
      "text/plain": [
       "<Figure size 432x288 with 1 Axes>"
      ]
     },
     "metadata": {
      "needs_background": "light"
     },
     "output_type": "display_data"
    },
    {
     "data": {
      "image/png": "[encoded data removed]",
      "text/plain": [
       "<Figure size 432x288 with 1 Axes>"
      ]
     },
     "metadata": {
      "needs_background": "light"
     },
     "output_type": "display_data"
    },
    {
     "data": {
      "image/png": "[encoded data removed]",
      "text/plain": [
       "<Figure size 432x288 with 1 Axes>"
      ]
     },
     "metadata": {
      "needs_background": "light"
     },
     "output_type": "display_data"
    },
    {
     "data": {
      "image/png": "[encoded data removed]",
      "text/plain": [
       "<Figure size 432x288 with 1 Axes>"
      ]
     },
     "metadata": {
      "needs_background": "light"
     },
     "output_type": "display_data"
    },
    {
     "data": {
      "image/png": "[encoded data removed]",
      "text/plain": [
       "<Figure size 432x288 with 1 Axes>"
      ]
     },
     "metadata": {
      "needs_background": "light"
     },
     "output_type": "display_data"
    },
    {
     "data": {
      "image/png": "[encoded data removed]",
      "text/plain": [
       "<Figure size 432x288 with 1 Axes>"
      ]
     },
     "metadata": {
      "needs_background": "light"
     },
     "output_type": "display_data"
    },
    {
     "data": {
      "image/png": "[encoded data removed]",
      "text/plain": [
       "<Figure size 432x288 with 1 Axes>"
      ]
     },
     "metadata": {
      "needs_background": "light"
     },
     "output_type": "display_data"
    },
    {
     "data": {
      "image/png": "[encoded data removed]",
      "text/plain": [
       "<Figure size 432x288 with 1 Axes>"
      ]
     },
     "metadata": {
      "needs_background": "light"
     },
     "output_type": "display_data"
    },
    {
     "data": {
      "image/png": "[encoded data removed]",
      "text/plain": [
       "<Figure size 432x288 with 1 Axes>"
      ]
     },
     "metadata": {
      "needs_background": "light"
     },
     "output_type": "display_data"
    },
    {
     "data": {
      "image/png": "[encoded data removed]",
      "text/plain": [
       "<Figure size 432x288 with 1 Axes>"
      ]
     },
     "metadata": {
      "needs_background": "light"
     },
     "output_type": "display_data"
    },
    {
     "data": {
      "image/png": "[encoded data removed]",
      "text/plain": [
       "<Figure size 432x288 with 1 Axes>"
      ]
     },
     "metadata": {
      "needs_background": "light"
     },
     "output_type": "display_data"
    },
    {
     "data": {
      "image/png": "[encoded data removed]",
      "text/plain": [
       "<Figure size 432x288 with 1 Axes>"
      ]
     },
     "metadata": {
      "needs_background": "light"
     },
     "output_type": "display_data"
    },
    {
     "data": {
      "image/png": "[encoded data removed]",
      "text/plain": [
       "<Figure size 432x288 with 1 Axes>"
      ]
     },
     "metadata": {
      "needs_background": "light"
     },
     "output_type": "display_data"
    },
    {
     "data": {
      "image/png": "[encoded data removed]",
      "text/plain": [
       "<Figure size 432x288 with 1 Axes>"
      ]
     },
     "metadata": {
      "needs_background": "light"
     },
     "output_type": "display_data"
    },
    {
     "data": {
      "image/png": "[encoded data removed]",
      "text/plain": [
       "<Figure size 432x288 with 1 Axes>"
      ]
     },
     "metadata": {
      "needs_background": "light"
     },
     "output_type": "display_data"
    },
    {
     "data": {
      "image/png": "[encoded data removed]",
      "text/plain": [
       "<Figure size 432x288 with 1 Axes>"
      ]
     },
     "metadata": {
      "needs_background": "light"
     },
     "output_type": "display_data"
    },
    {
     "data": {
      "image/png": "[encoded data removed]",
      "text/plain": [
       "<Figure size 432x288 with 1 Axes>"
      ]
     },
     "metadata": {
      "needs_background": "light"
     },
     "output_type": "display_data"
    },
    {
     "data": {
      "image/png": "[encoded data removed]",
      "text/plain": [
       "<Figure size 432x288 with 1 Axes>"
      ]
     },
     "metadata": {
      "needs_background": "light"
     },
     "output_type": "display_data"
    },
    {
     "data": {
      "image/png": "[encoded data removed]",
      "text/plain": [
       "<Figure size 432x288 with 1 Axes>"
      ]
     },
     "metadata": {
      "needs_background": "light"
     },
     "output_type": "display_data"
    },
    {
     "data": {
      "image/png": "[encoded data removed]",
      "text/plain": [
       "<Figure size 432x288 with 1 Axes>"
      ]
     },
     "metadata": {
      "needs_background": "light"
     },
     "output_type": "display_data"
    },
    {
     "data": {
      "image/png": "[encoded data removed]",
      "text/plain": [
       "<Figure size 432x288 with 1 Axes>"
      ]
     },
     "metadata": {
      "needs_background": "light"
     },
     "output_type": "display_data"
    },
    {
     "data": {
      "image/png": "[encoded data removed]",
      "text/plain": [
       "<Figure size 432x288 with 1 Axes>"
      ]
     },
     "metadata": {
      "needs_background": "light"
     },
     "output_type": "display_data"
    },
    {
     "data": {
      "image/png": "[encoded data removed]",
      "text/plain": [
       "<Figure size 432x288 with 1 Axes>"
      ]
     },
     "metadata": {
      "needs_background": "light"
     },
     "output_type": "display_data"
    },
    {
     "data": {
      "image/png": "[encoded data removed]",
      "text/plain": [
       "<Figure size 432x288 with 1 Axes>"
      ]
     },
     "metadata": {
      "needs_background": "light"
     },
     "output_type": "display_data"
    },
    {
     "data": {
      "image/png": "[encoded data removed]",
      "text/plain": [
       "<Figure size 432x288 with 1 Axes>"
      ]
     },
     "metadata": {
      "needs_background": "light"
     },
     "output_type": "display_data"
    },
    {
     "data": {
      "image/png": "[encoded data removed]",
      "text/plain": [
       "<Figure size 432x288 with 1 Axes>"
      ]
     },
     "metadata": {
      "needs_background": "light"
     },
     "output_type": "display_data"
    },
    {
     "data": {
      "image/png": "[encoded data removed]",
      "text/plain": [
       "<Figure size 432x288 with 1 Axes>"
      ]
     },
     "metadata": {
      "needs_background": "light"
     },
     "output_type": "display_data"
    },
    {
     "data": {
      "image/png": "[encoded data removed]",
      "text/plain": [
       "<Figure size 432x288 with 1 Axes>"
      ]
     },
     "metadata": {
      "needs_background": "light"
     },
     "output_type": "display_data"
    },
    {
     "data": {
      "image/png": "[encoded data removed]",
      "text/plain": [
       "<Figure size 432x288 with 1 Axes>"
      ]
     },
     "metadata": {
      "needs_background": "light"
     },
     "output_type": "display_data"
    },
    {
     "data": {
      "image/png": "[encoded data removed]",
      "text/plain": [
       "<Figure size 432x288 with 1 Axes>"
      ]
     },
     "metadata": {
      "needs_background": "light"
     },
     "output_type": "display_data"
    },
    {
     "data": {
      "image/png": "[encoded data removed]",
      "text/plain": [
       "<Figure size 432x288 with 1 Axes>"
      ]
     },
     "metadata": {
      "needs_background": "light"
     },
     "output_type": "display_data"
    },
    {
     "data": {
      "image/png": "[encoded data removed]",
      "text/plain": [
       "<Figure size 432x288 with 1 Axes>"
      ]
     },
     "metadata": {
      "needs_background": "light"
     },
     "output_type": "display_data"
    },
    {
     "data": {
      "image/png": "[encoded data removed]",
      "text/plain": [
       "<Figure size 432x288 with 1 Axes>"
      ]
     },
     "metadata": {
      "needs_background": "light"
     },
     "output_type": "display_data"
    },
    {
     "data": {
      "image/png": "[encoded data removed]",
      "text/plain": [
       "<Figure size 432x288 with 1 Axes>"
      ]
     },
     "metadata": {
      "needs_background": "light"
     },
     "output_type": "display_data"
    },
    {
     "data": {
      "image/png": "[encoded data removed]",
      "text/plain": [
       "<Figure size 432x288 with 1 Axes>"
      ]
     },
     "metadata": {
      "needs_background": "light"
     },
     "output_type": "display_data"
    },
    {
     "data": {
      "image/png": "[encoded data removed]",
      "text/plain": [
       "<Figure size 432x288 with 1 Axes>"
      ]
     },
     "metadata": {
      "needs_background": "light"
     },
     "output_type": "display_data"
    },
    {
     "data": {
      "image/png": "[encoded data removed]",
      "text/plain": [
       "<Figure size 432x288 with 1 Axes>"
      ]
     },
     "metadata": {
      "needs_background": "light"
     },
     "output_type": "display_data"
    },
    {
     "data": {
      "image/png": "[encoded data removed]",
      "text/plain": [
       "<Figure size 432x288 with 1 Axes>"
      ]
     },
     "metadata": {
      "needs_background": "light"
     },
     "output_type": "display_data"
    },
    {
     "data": {
      "image/png": "[encoded data removed]",
      "text/plain": [
       "<Figure size 432x288 with 1 Axes>"
      ]
     },
     "metadata": {
      "needs_background": "light"
     },
     "output_type": "display_data"
    },
    {
     "data": {
      "image/png": "[encoded data removed]",
      "text/plain": [
       "<Figure size 432x288 with 1 Axes>"
      ]
     },
     "metadata": {
      "needs_background": "light"
     },
     "output_type": "display_data"
    },
    {
     "data": {
      "image/png": "[encoded data removed]",
      "text/plain": [
       "<Figure size 432x288 with 1 Axes>"
      ]
     },
     "metadata": {
      "needs_background": "light"
     },
     "output_type": "display_data"
    },
    {
     "data": {
      "image/png": "[encoded data removed]",
      "text/plain": [
       "<Figure size 432x288 with 1 Axes>"
      ]
     },
     "metadata": {
      "needs_background": "light"
     },
     "output_type": "display_data"
    },
    {
     "data": {
      "image/png": "[encoded data removed]",
      "text/plain": [
       "<Figure size 432x288 with 1 Axes>"
      ]
     },
     "metadata": {
      "needs_background": "light"
     },
     "output_type": "display_data"
    },
    {
     "data": {
      "image/png": "[encoded data removed]",
      "text/plain": [
       "<Figure size 432x288 with 1 Axes>"
      ]
     },
     "metadata": {
      "needs_background": "light"
     },
     "output_type": "display_data"
    },
    {
     "data": {
      "image/png": "[encoded data removed]",
      "text/plain": [
       "<Figure size 432x288 with 1 Axes>"
      ]
     },
     "metadata": {
      "needs_background": "light"
     },
     "output_type": "display_data"
    },
    {
     "data": {
      "image/png": "[encoded data removed]",
      "text/plain": [
       "<Figure size 432x288 with 1 Axes>"
      ]
     },
     "metadata": {
      "needs_background": "light"
     },
     "output_type": "display_data"
    },
    {
     "data": {
      "image/png": "[encoded data removed]",
      "text/plain": [
       "<Figure size 432x288 with 1 Axes>"
      ]
     },
     "metadata": {
      "needs_background": "light"
     },
     "output_type": "display_data"
    }
   ],
   "source": [
    "#Plot histograms \n",
    "#Code snippet taken from the ML for Monkeys video\n",
    "\n",
    "for col in train_data.columns.values:\n",
    "    if(train_data[col].dtypes == 'object'):\n",
    "        plt.hist(train_data[col])\n",
    "        plt.xlabel(col)\n",
    "        plt.show()\n",
    "    elif(train_data[col].dtypes == 'float64'):\n",
    "        plt.hist(train_data[col],10 if len(pd.unique(train_data[col]))>20 else len(pd.unique(train_data[col])))\n",
    "        plt.xlabel(col)\n",
    "        plt.show()\n"
   ]
  },
  {
   "cell_type": "markdown",
   "metadata": {},
   "source": [
    "Observations: \n",
    "    1. All variables seem to be spread well\n",
    "    2. The classes have almost similar number of data points for each class"
   ]
  },
  {
   "cell_type": "markdown",
   "metadata": {},
   "source": [
    "### Prepare Data\n",
    "\n",
    "    1. Drop variables with too many null entries\n",
    "    2. Add one-hot-bit encoding for the classes\n",
    "    3. Impute variables with a few null entries\n",
    "    4. Normalize ranges"
   ]
  },
  {
   "cell_type": "code",
   "execution_count": 7,
   "metadata": {},
   "outputs": [],
   "source": [
    "#Drop data with too many null entries\n",
    "\n",
    "train_data = train_data.drop(['BAD_N', 'BCL2_N', 'pCFOS_N', 'H3AcK18_N', 'EGR1_N', 'H3MeK4_N'], axis = 1)\n",
    "test_data = test_data.drop(['BAD_N', 'BCL2_N', 'pCFOS_N', 'H3AcK18_N', 'EGR1_N', 'H3MeK4_N'], axis = 1)"
   ]
  },
  {
   "cell_type": "code",
   "execution_count": 8,
   "metadata": {},
   "outputs": [
    {
     "data": {
      "text/html": [
       "<div>\n",
       "<style scoped>\n",
       "    .dataframe tbody tr th:only-of-type {\n",
       "        vertical-align: middle;\n",
       "    }\n",
       "\n",
       "    .dataframe tbody tr th {\n",
       "        vertical-align: top;\n",
       "    }\n",
       "\n",
       "    .dataframe thead th {\n",
       "        text-align: right;\n",
       "    }\n",
       "</style>\n",
       "<table border=\"1\" class=\"dataframe\">\n",
       "  <thead>\n",
       "    <tr style=\"text-align: right;\">\n",
       "      <th></th>\n",
       "      <th>DYRK1A_N</th>\n",
       "      <th>ITSN1_N</th>\n",
       "      <th>BDNF_N</th>\n",
       "      <th>NR1_N</th>\n",
       "      <th>NR2A_N</th>\n",
       "      <th>pAKT_N</th>\n",
       "      <th>pBRAF_N</th>\n",
       "      <th>pCAMKII_N</th>\n",
       "      <th>pCREB_N</th>\n",
       "      <th>pELK_N</th>\n",
       "      <th>...</th>\n",
       "      <th>SHH_N</th>\n",
       "      <th>pS6_N</th>\n",
       "      <th>SYP_N</th>\n",
       "      <th>CaNA_N</th>\n",
       "      <th>Genotype_Control</th>\n",
       "      <th>Genotype_Ts65Dn</th>\n",
       "      <th>Treatment_Behavior_Memantine_C/S</th>\n",
       "      <th>Treatment_Behavior_Memantine_S/C</th>\n",
       "      <th>Treatment_Behavior_Saline_C/S</th>\n",
       "      <th>Treatment_Behavior_Saline_S/C</th>\n",
       "    </tr>\n",
       "  </thead>\n",
       "  <tbody>\n",
       "    <tr>\n",
       "      <th>0</th>\n",
       "      <td>0.503644</td>\n",
       "      <td>0.747193</td>\n",
       "      <td>0.430175</td>\n",
       "      <td>2.816329</td>\n",
       "      <td>5.990152</td>\n",
       "      <td>0.218830</td>\n",
       "      <td>0.177565</td>\n",
       "      <td>2.373744</td>\n",
       "      <td>0.232224</td>\n",
       "      <td>1.750936</td>\n",
       "      <td>...</td>\n",
       "      <td>0.188852</td>\n",
       "      <td>0.106305</td>\n",
       "      <td>0.427099</td>\n",
       "      <td>1.675652</td>\n",
       "      <td>1</td>\n",
       "      <td>0</td>\n",
       "      <td>1</td>\n",
       "      <td>0</td>\n",
       "      <td>0</td>\n",
       "      <td>0</td>\n",
       "    </tr>\n",
       "    <tr>\n",
       "      <th>1</th>\n",
       "      <td>0.514617</td>\n",
       "      <td>0.689064</td>\n",
       "      <td>0.411770</td>\n",
       "      <td>2.789514</td>\n",
       "      <td>5.685038</td>\n",
       "      <td>0.211636</td>\n",
       "      <td>0.172817</td>\n",
       "      <td>2.292150</td>\n",
       "      <td>0.226972</td>\n",
       "      <td>1.596377</td>\n",
       "      <td>...</td>\n",
       "      <td>0.200404</td>\n",
       "      <td>0.106592</td>\n",
       "      <td>0.441581</td>\n",
       "      <td>1.743610</td>\n",
       "      <td>1</td>\n",
       "      <td>0</td>\n",
       "      <td>1</td>\n",
       "      <td>0</td>\n",
       "      <td>0</td>\n",
       "      <td>0</td>\n",
       "    </tr>\n",
       "    <tr>\n",
       "      <th>2</th>\n",
       "      <td>0.509183</td>\n",
       "      <td>0.730247</td>\n",
       "      <td>0.418309</td>\n",
       "      <td>2.687201</td>\n",
       "      <td>5.622059</td>\n",
       "      <td>0.209011</td>\n",
       "      <td>0.175722</td>\n",
       "      <td>2.283337</td>\n",
       "      <td>0.230247</td>\n",
       "      <td>1.561316</td>\n",
       "      <td>...</td>\n",
       "      <td>0.193685</td>\n",
       "      <td>0.108303</td>\n",
       "      <td>0.435777</td>\n",
       "      <td>1.926427</td>\n",
       "      <td>1</td>\n",
       "      <td>0</td>\n",
       "      <td>1</td>\n",
       "      <td>0</td>\n",
       "      <td>0</td>\n",
       "      <td>0</td>\n",
       "    </tr>\n",
       "    <tr>\n",
       "      <th>3</th>\n",
       "      <td>0.442107</td>\n",
       "      <td>0.617076</td>\n",
       "      <td>0.358626</td>\n",
       "      <td>2.466947</td>\n",
       "      <td>4.979503</td>\n",
       "      <td>0.222886</td>\n",
       "      <td>0.176463</td>\n",
       "      <td>2.152301</td>\n",
       "      <td>0.207004</td>\n",
       "      <td>1.595086</td>\n",
       "      <td>...</td>\n",
       "      <td>0.192112</td>\n",
       "      <td>0.103184</td>\n",
       "      <td>0.391691</td>\n",
       "      <td>1.700563</td>\n",
       "      <td>1</td>\n",
       "      <td>0</td>\n",
       "      <td>1</td>\n",
       "      <td>0</td>\n",
       "      <td>0</td>\n",
       "      <td>0</td>\n",
       "    </tr>\n",
       "    <tr>\n",
       "      <th>4</th>\n",
       "      <td>0.434940</td>\n",
       "      <td>0.617430</td>\n",
       "      <td>0.358802</td>\n",
       "      <td>2.365785</td>\n",
       "      <td>4.718679</td>\n",
       "      <td>0.213106</td>\n",
       "      <td>0.173627</td>\n",
       "      <td>2.134014</td>\n",
       "      <td>0.192158</td>\n",
       "      <td>1.504230</td>\n",
       "      <td>...</td>\n",
       "      <td>0.205604</td>\n",
       "      <td>0.104784</td>\n",
       "      <td>0.434154</td>\n",
       "      <td>1.839730</td>\n",
       "      <td>1</td>\n",
       "      <td>0</td>\n",
       "      <td>1</td>\n",
       "      <td>0</td>\n",
       "      <td>0</td>\n",
       "      <td>0</td>\n",
       "    </tr>\n",
       "    <tr>\n",
       "      <th>...</th>\n",
       "      <td>...</td>\n",
       "      <td>...</td>\n",
       "      <td>...</td>\n",
       "      <td>...</td>\n",
       "      <td>...</td>\n",
       "      <td>...</td>\n",
       "      <td>...</td>\n",
       "      <td>...</td>\n",
       "      <td>...</td>\n",
       "      <td>...</td>\n",
       "      <td>...</td>\n",
       "      <td>...</td>\n",
       "      <td>...</td>\n",
       "      <td>...</td>\n",
       "      <td>...</td>\n",
       "      <td>...</td>\n",
       "      <td>...</td>\n",
       "      <td>...</td>\n",
       "      <td>...</td>\n",
       "      <td>...</td>\n",
       "      <td>...</td>\n",
       "    </tr>\n",
       "    <tr>\n",
       "      <th>757</th>\n",
       "      <td>0.394169</td>\n",
       "      <td>0.623696</td>\n",
       "      <td>0.316564</td>\n",
       "      <td>2.104045</td>\n",
       "      <td>3.314706</td>\n",
       "      <td>0.234529</td>\n",
       "      <td>0.200657</td>\n",
       "      <td>3.208804</td>\n",
       "      <td>0.221809</td>\n",
       "      <td>1.218951</td>\n",
       "      <td>...</td>\n",
       "      <td>0.216128</td>\n",
       "      <td>0.119428</td>\n",
       "      <td>0.441207</td>\n",
       "      <td>1.474465</td>\n",
       "      <td>0</td>\n",
       "      <td>1</td>\n",
       "      <td>0</td>\n",
       "      <td>0</td>\n",
       "      <td>0</td>\n",
       "      <td>1</td>\n",
       "    </tr>\n",
       "    <tr>\n",
       "      <th>758</th>\n",
       "      <td>0.401739</td>\n",
       "      <td>0.659571</td>\n",
       "      <td>0.321841</td>\n",
       "      <td>2.183930</td>\n",
       "      <td>3.411782</td>\n",
       "      <td>0.236546</td>\n",
       "      <td>0.190826</td>\n",
       "      <td>3.384350</td>\n",
       "      <td>0.231899</td>\n",
       "      <td>1.250487</td>\n",
       "      <td>...</td>\n",
       "      <td>0.209717</td>\n",
       "      <td>0.118081</td>\n",
       "      <td>0.444913</td>\n",
       "      <td>1.516605</td>\n",
       "      <td>0</td>\n",
       "      <td>1</td>\n",
       "      <td>0</td>\n",
       "      <td>0</td>\n",
       "      <td>0</td>\n",
       "      <td>1</td>\n",
       "    </tr>\n",
       "    <tr>\n",
       "      <th>759</th>\n",
       "      <td>0.382182</td>\n",
       "      <td>0.586545</td>\n",
       "      <td>0.318545</td>\n",
       "      <td>2.072000</td>\n",
       "      <td>3.073636</td>\n",
       "      <td>0.259636</td>\n",
       "      <td>0.202727</td>\n",
       "      <td>3.006364</td>\n",
       "      <td>0.223455</td>\n",
       "      <td>1.248727</td>\n",
       "      <td>...</td>\n",
       "      <td>0.211279</td>\n",
       "      <td>0.116134</td>\n",
       "      <td>0.422789</td>\n",
       "      <td>1.433514</td>\n",
       "      <td>0</td>\n",
       "      <td>1</td>\n",
       "      <td>0</td>\n",
       "      <td>0</td>\n",
       "      <td>0</td>\n",
       "      <td>1</td>\n",
       "    </tr>\n",
       "    <tr>\n",
       "      <th>760</th>\n",
       "      <td>0.365622</td>\n",
       "      <td>0.572209</td>\n",
       "      <td>0.297992</td>\n",
       "      <td>2.004931</td>\n",
       "      <td>2.783551</td>\n",
       "      <td>0.245333</td>\n",
       "      <td>0.190384</td>\n",
       "      <td>2.948221</td>\n",
       "      <td>0.217506</td>\n",
       "      <td>1.177527</td>\n",
       "      <td>...</td>\n",
       "      <td>0.197437</td>\n",
       "      <td>0.120649</td>\n",
       "      <td>0.459901</td>\n",
       "      <td>1.543274</td>\n",
       "      <td>0</td>\n",
       "      <td>1</td>\n",
       "      <td>0</td>\n",
       "      <td>0</td>\n",
       "      <td>0</td>\n",
       "      <td>1</td>\n",
       "    </tr>\n",
       "    <tr>\n",
       "      <th>761</th>\n",
       "      <td>0.365605</td>\n",
       "      <td>0.599499</td>\n",
       "      <td>0.301539</td>\n",
       "      <td>2.062813</td>\n",
       "      <td>2.952577</td>\n",
       "      <td>0.248568</td>\n",
       "      <td>0.198819</td>\n",
       "      <td>3.069435</td>\n",
       "      <td>0.226736</td>\n",
       "      <td>1.220472</td>\n",
       "      <td>...</td>\n",
       "      <td>0.225640</td>\n",
       "      <td>0.121738</td>\n",
       "      <td>0.424228</td>\n",
       "      <td>1.520110</td>\n",
       "      <td>0</td>\n",
       "      <td>1</td>\n",
       "      <td>0</td>\n",
       "      <td>0</td>\n",
       "      <td>0</td>\n",
       "      <td>1</td>\n",
       "    </tr>\n",
       "  </tbody>\n",
       "</table>\n",
       "<p>762 rows × 77 columns</p>\n",
       "</div>"
      ],
      "text/plain": [
       "     DYRK1A_N   ITSN1_N    BDNF_N     NR1_N    NR2A_N    pAKT_N   pBRAF_N  \\\n",
       "0    0.503644  0.747193  0.430175  2.816329  5.990152  0.218830  0.177565   \n",
       "1    0.514617  0.689064  0.411770  2.789514  5.685038  0.211636  0.172817   \n",
       "2    0.509183  0.730247  0.418309  2.687201  5.622059  0.209011  0.175722   \n",
       "3    0.442107  0.617076  0.358626  2.466947  4.979503  0.222886  0.176463   \n",
       "4    0.434940  0.617430  0.358802  2.365785  4.718679  0.213106  0.173627   \n",
       "..        ...       ...       ...       ...       ...       ...       ...   \n",
       "757  0.394169  0.623696  0.316564  2.104045  3.314706  0.234529  0.200657   \n",
       "758  0.401739  0.659571  0.321841  2.183930  3.411782  0.236546  0.190826   \n",
       "759  0.382182  0.586545  0.318545  2.072000  3.073636  0.259636  0.202727   \n",
       "760  0.365622  0.572209  0.297992  2.004931  2.783551  0.245333  0.190384   \n",
       "761  0.365605  0.599499  0.301539  2.062813  2.952577  0.248568  0.198819   \n",
       "\n",
       "     pCAMKII_N   pCREB_N    pELK_N  ...     SHH_N     pS6_N     SYP_N  \\\n",
       "0     2.373744  0.232224  1.750936  ...  0.188852  0.106305  0.427099   \n",
       "1     2.292150  0.226972  1.596377  ...  0.200404  0.106592  0.441581   \n",
       "2     2.283337  0.230247  1.561316  ...  0.193685  0.108303  0.435777   \n",
       "3     2.152301  0.207004  1.595086  ...  0.192112  0.103184  0.391691   \n",
       "4     2.134014  0.192158  1.504230  ...  0.205604  0.104784  0.434154   \n",
       "..         ...       ...       ...  ...       ...       ...       ...   \n",
       "757   3.208804  0.221809  1.218951  ...  0.216128  0.119428  0.441207   \n",
       "758   3.384350  0.231899  1.250487  ...  0.209717  0.118081  0.444913   \n",
       "759   3.006364  0.223455  1.248727  ...  0.211279  0.116134  0.422789   \n",
       "760   2.948221  0.217506  1.177527  ...  0.197437  0.120649  0.459901   \n",
       "761   3.069435  0.226736  1.220472  ...  0.225640  0.121738  0.424228   \n",
       "\n",
       "       CaNA_N  Genotype_Control  Genotype_Ts65Dn  \\\n",
       "0    1.675652                 1                0   \n",
       "1    1.743610                 1                0   \n",
       "2    1.926427                 1                0   \n",
       "3    1.700563                 1                0   \n",
       "4    1.839730                 1                0   \n",
       "..        ...               ...              ...   \n",
       "757  1.474465                 0                1   \n",
       "758  1.516605                 0                1   \n",
       "759  1.433514                 0                1   \n",
       "760  1.543274                 0                1   \n",
       "761  1.520110                 0                1   \n",
       "\n",
       "     Treatment_Behavior_Memantine_C/S  Treatment_Behavior_Memantine_S/C  \\\n",
       "0                                   1                                 0   \n",
       "1                                   1                                 0   \n",
       "2                                   1                                 0   \n",
       "3                                   1                                 0   \n",
       "4                                   1                                 0   \n",
       "..                                ...                               ...   \n",
       "757                                 0                                 0   \n",
       "758                                 0                                 0   \n",
       "759                                 0                                 0   \n",
       "760                                 0                                 0   \n",
       "761                                 0                                 0   \n",
       "\n",
       "     Treatment_Behavior_Saline_C/S  Treatment_Behavior_Saline_S/C  \n",
       "0                                0                              0  \n",
       "1                                0                              0  \n",
       "2                                0                              0  \n",
       "3                                0                              0  \n",
       "4                                0                              0  \n",
       "..                             ...                            ...  \n",
       "757                              0                              1  \n",
       "758                              0                              1  \n",
       "759                              0                              1  \n",
       "760                              0                              1  \n",
       "761                              0                              1  \n",
       "\n",
       "[762 rows x 77 columns]"
      ]
     },
     "metadata": {},
     "output_type": "display_data"
    },
    {
     "data": {
      "text/html": [
       "<div>\n",
       "<style scoped>\n",
       "    .dataframe tbody tr th:only-of-type {\n",
       "        vertical-align: middle;\n",
       "    }\n",
       "\n",
       "    .dataframe tbody tr th {\n",
       "        vertical-align: top;\n",
       "    }\n",
       "\n",
       "    .dataframe thead th {\n",
       "        text-align: right;\n",
       "    }\n",
       "</style>\n",
       "<table border=\"1\" class=\"dataframe\">\n",
       "  <thead>\n",
       "    <tr style=\"text-align: right;\">\n",
       "      <th></th>\n",
       "      <th>DYRK1A_N</th>\n",
       "      <th>ITSN1_N</th>\n",
       "      <th>BDNF_N</th>\n",
       "      <th>NR1_N</th>\n",
       "      <th>NR2A_N</th>\n",
       "      <th>pAKT_N</th>\n",
       "      <th>pBRAF_N</th>\n",
       "      <th>pCAMKII_N</th>\n",
       "      <th>pCREB_N</th>\n",
       "      <th>pELK_N</th>\n",
       "      <th>...</th>\n",
       "      <th>SHH_N</th>\n",
       "      <th>pS6_N</th>\n",
       "      <th>SYP_N</th>\n",
       "      <th>CaNA_N</th>\n",
       "      <th>Genotype_Control</th>\n",
       "      <th>Genotype_Ts65Dn</th>\n",
       "      <th>Treatment_Behavior_Memantine_C/S</th>\n",
       "      <th>Treatment_Behavior_Memantine_S/C</th>\n",
       "      <th>Treatment_Behavior_Saline_C/S</th>\n",
       "      <th>Treatment_Behavior_Saline_S/C</th>\n",
       "    </tr>\n",
       "  </thead>\n",
       "  <tbody>\n",
       "    <tr>\n",
       "      <th>0</th>\n",
       "      <td>0.627582</td>\n",
       "      <td>0.954187</td>\n",
       "      <td>0.446958</td>\n",
       "      <td>2.930717</td>\n",
       "      <td>5.915039</td>\n",
       "      <td>0.197897</td>\n",
       "      <td>0.185599</td>\n",
       "      <td>1.765115</td>\n",
       "      <td>0.232257</td>\n",
       "      <td>1.808111</td>\n",
       "      <td>...</td>\n",
       "      <td>0.211462</td>\n",
       "      <td>0.148773</td>\n",
       "      <td>0.541241</td>\n",
       "      <td>1.649983</td>\n",
       "      <td>1</td>\n",
       "      <td>0</td>\n",
       "      <td>1</td>\n",
       "      <td>0</td>\n",
       "      <td>0</td>\n",
       "      <td>0</td>\n",
       "    </tr>\n",
       "    <tr>\n",
       "      <th>1</th>\n",
       "      <td>0.651253</td>\n",
       "      <td>0.962021</td>\n",
       "      <td>0.464964</td>\n",
       "      <td>2.992689</td>\n",
       "      <td>5.975028</td>\n",
       "      <td>0.202810</td>\n",
       "      <td>0.188473</td>\n",
       "      <td>1.807824</td>\n",
       "      <td>0.259020</td>\n",
       "      <td>1.960691</td>\n",
       "      <td>...</td>\n",
       "      <td>0.222265</td>\n",
       "      <td>0.147660</td>\n",
       "      <td>0.525966</td>\n",
       "      <td>1.638988</td>\n",
       "      <td>1</td>\n",
       "      <td>0</td>\n",
       "      <td>1</td>\n",
       "      <td>0</td>\n",
       "      <td>0</td>\n",
       "      <td>0</td>\n",
       "    </tr>\n",
       "    <tr>\n",
       "      <th>2</th>\n",
       "      <td>0.644346</td>\n",
       "      <td>0.967179</td>\n",
       "      <td>0.470056</td>\n",
       "      <td>3.073847</td>\n",
       "      <td>5.927379</td>\n",
       "      <td>0.205131</td>\n",
       "      <td>0.182590</td>\n",
       "      <td>1.783552</td>\n",
       "      <td>0.258795</td>\n",
       "      <td>2.147883</td>\n",
       "      <td>...</td>\n",
       "      <td>0.227446</td>\n",
       "      <td>0.143169</td>\n",
       "      <td>0.508214</td>\n",
       "      <td>1.564925</td>\n",
       "      <td>1</td>\n",
       "      <td>0</td>\n",
       "      <td>1</td>\n",
       "      <td>0</td>\n",
       "      <td>0</td>\n",
       "      <td>0</td>\n",
       "    </tr>\n",
       "    <tr>\n",
       "      <th>3</th>\n",
       "      <td>0.568229</td>\n",
       "      <td>0.812018</td>\n",
       "      <td>0.393465</td>\n",
       "      <td>2.606780</td>\n",
       "      <td>5.808102</td>\n",
       "      <td>0.218211</td>\n",
       "      <td>0.179905</td>\n",
       "      <td>2.312324</td>\n",
       "      <td>0.209154</td>\n",
       "      <td>1.733692</td>\n",
       "      <td>...</td>\n",
       "      <td>0.207185</td>\n",
       "      <td>0.140063</td>\n",
       "      <td>0.561721</td>\n",
       "      <td>1.682222</td>\n",
       "      <td>1</td>\n",
       "      <td>0</td>\n",
       "      <td>1</td>\n",
       "      <td>0</td>\n",
       "      <td>0</td>\n",
       "      <td>0</td>\n",
       "    </tr>\n",
       "    <tr>\n",
       "      <th>4</th>\n",
       "      <td>0.587038</td>\n",
       "      <td>0.863728</td>\n",
       "      <td>0.411203</td>\n",
       "      <td>2.757975</td>\n",
       "      <td>6.006657</td>\n",
       "      <td>0.223688</td>\n",
       "      <td>0.189400</td>\n",
       "      <td>2.375283</td>\n",
       "      <td>0.218538</td>\n",
       "      <td>1.843255</td>\n",
       "      <td>...</td>\n",
       "      <td>0.213444</td>\n",
       "      <td>0.140775</td>\n",
       "      <td>0.534845</td>\n",
       "      <td>1.660352</td>\n",
       "      <td>1</td>\n",
       "      <td>0</td>\n",
       "      <td>1</td>\n",
       "      <td>0</td>\n",
       "      <td>0</td>\n",
       "      <td>0</td>\n",
       "    </tr>\n",
       "    <tr>\n",
       "      <th>...</th>\n",
       "      <td>...</td>\n",
       "      <td>...</td>\n",
       "      <td>...</td>\n",
       "      <td>...</td>\n",
       "      <td>...</td>\n",
       "      <td>...</td>\n",
       "      <td>...</td>\n",
       "      <td>...</td>\n",
       "      <td>...</td>\n",
       "      <td>...</td>\n",
       "      <td>...</td>\n",
       "      <td>...</td>\n",
       "      <td>...</td>\n",
       "      <td>...</td>\n",
       "      <td>...</td>\n",
       "      <td>...</td>\n",
       "      <td>...</td>\n",
       "      <td>...</td>\n",
       "      <td>...</td>\n",
       "      <td>...</td>\n",
       "      <td>...</td>\n",
       "    </tr>\n",
       "    <tr>\n",
       "      <th>220</th>\n",
       "      <td>0.226900</td>\n",
       "      <td>0.395432</td>\n",
       "      <td>0.248694</td>\n",
       "      <td>1.460666</td>\n",
       "      <td>1.860128</td>\n",
       "      <td>0.188536</td>\n",
       "      <td>0.148977</td>\n",
       "      <td>2.178982</td>\n",
       "      <td>0.165398</td>\n",
       "      <td>0.770115</td>\n",
       "      <td>...</td>\n",
       "      <td>0.278251</td>\n",
       "      <td>0.122747</td>\n",
       "      <td>0.400268</td>\n",
       "      <td>1.160740</td>\n",
       "      <td>0</td>\n",
       "      <td>1</td>\n",
       "      <td>0</td>\n",
       "      <td>0</td>\n",
       "      <td>0</td>\n",
       "      <td>1</td>\n",
       "    </tr>\n",
       "    <tr>\n",
       "      <th>221</th>\n",
       "      <td>0.261107</td>\n",
       "      <td>0.443780</td>\n",
       "      <td>0.276658</td>\n",
       "      <td>1.674129</td>\n",
       "      <td>2.256494</td>\n",
       "      <td>0.218216</td>\n",
       "      <td>0.176008</td>\n",
       "      <td>2.475735</td>\n",
       "      <td>0.184040</td>\n",
       "      <td>0.913363</td>\n",
       "      <td>...</td>\n",
       "      <td>0.273234</td>\n",
       "      <td>0.119881</td>\n",
       "      <td>0.407596</td>\n",
       "      <td>1.139347</td>\n",
       "      <td>0</td>\n",
       "      <td>1</td>\n",
       "      <td>0</td>\n",
       "      <td>0</td>\n",
       "      <td>0</td>\n",
       "      <td>1</td>\n",
       "    </tr>\n",
       "    <tr>\n",
       "      <th>222</th>\n",
       "      <td>0.216134</td>\n",
       "      <td>0.364058</td>\n",
       "      <td>0.241693</td>\n",
       "      <td>1.330831</td>\n",
       "      <td>1.737540</td>\n",
       "      <td>0.197125</td>\n",
       "      <td>0.151597</td>\n",
       "      <td>1.919489</td>\n",
       "      <td>0.162780</td>\n",
       "      <td>0.720767</td>\n",
       "      <td>...</td>\n",
       "      <td>0.289738</td>\n",
       "      <td>0.118758</td>\n",
       "      <td>0.431334</td>\n",
       "      <td>1.142205</td>\n",
       "      <td>0</td>\n",
       "      <td>1</td>\n",
       "      <td>0</td>\n",
       "      <td>0</td>\n",
       "      <td>0</td>\n",
       "      <td>1</td>\n",
       "    </tr>\n",
       "    <tr>\n",
       "      <th>223</th>\n",
       "      <td>0.212369</td>\n",
       "      <td>0.369960</td>\n",
       "      <td>0.239036</td>\n",
       "      <td>1.346827</td>\n",
       "      <td>1.814940</td>\n",
       "      <td>0.194538</td>\n",
       "      <td>0.143454</td>\n",
       "      <td>1.908112</td>\n",
       "      <td>0.155823</td>\n",
       "      <td>0.772530</td>\n",
       "      <td>...</td>\n",
       "      <td>0.279559</td>\n",
       "      <td>0.121366</td>\n",
       "      <td>0.395408</td>\n",
       "      <td>1.112718</td>\n",
       "      <td>0</td>\n",
       "      <td>1</td>\n",
       "      <td>0</td>\n",
       "      <td>0</td>\n",
       "      <td>0</td>\n",
       "      <td>1</td>\n",
       "    </tr>\n",
       "    <tr>\n",
       "      <th>224</th>\n",
       "      <td>0.257290</td>\n",
       "      <td>0.432628</td>\n",
       "      <td>0.289689</td>\n",
       "      <td>1.589289</td>\n",
       "      <td>2.125977</td>\n",
       "      <td>0.232704</td>\n",
       "      <td>0.177244</td>\n",
       "      <td>2.308557</td>\n",
       "      <td>0.181056</td>\n",
       "      <td>0.894797</td>\n",
       "      <td>...</td>\n",
       "      <td>0.298115</td>\n",
       "      <td>0.123290</td>\n",
       "      <td>0.402706</td>\n",
       "      <td>1.171785</td>\n",
       "      <td>0</td>\n",
       "      <td>1</td>\n",
       "      <td>0</td>\n",
       "      <td>0</td>\n",
       "      <td>0</td>\n",
       "      <td>1</td>\n",
       "    </tr>\n",
       "  </tbody>\n",
       "</table>\n",
       "<p>225 rows × 77 columns</p>\n",
       "</div>"
      ],
      "text/plain": [
       "     DYRK1A_N   ITSN1_N    BDNF_N     NR1_N    NR2A_N    pAKT_N   pBRAF_N  \\\n",
       "0    0.627582  0.954187  0.446958  2.930717  5.915039  0.197897  0.185599   \n",
       "1    0.651253  0.962021  0.464964  2.992689  5.975028  0.202810  0.188473   \n",
       "2    0.644346  0.967179  0.470056  3.073847  5.927379  0.205131  0.182590   \n",
       "3    0.568229  0.812018  0.393465  2.606780  5.808102  0.218211  0.179905   \n",
       "4    0.587038  0.863728  0.411203  2.757975  6.006657  0.223688  0.189400   \n",
       "..        ...       ...       ...       ...       ...       ...       ...   \n",
       "220  0.226900  0.395432  0.248694  1.460666  1.860128  0.188536  0.148977   \n",
       "221  0.261107  0.443780  0.276658  1.674129  2.256494  0.218216  0.176008   \n",
       "222  0.216134  0.364058  0.241693  1.330831  1.737540  0.197125  0.151597   \n",
       "223  0.212369  0.369960  0.239036  1.346827  1.814940  0.194538  0.143454   \n",
       "224  0.257290  0.432628  0.289689  1.589289  2.125977  0.232704  0.177244   \n",
       "\n",
       "     pCAMKII_N   pCREB_N    pELK_N  ...     SHH_N     pS6_N     SYP_N  \\\n",
       "0     1.765115  0.232257  1.808111  ...  0.211462  0.148773  0.541241   \n",
       "1     1.807824  0.259020  1.960691  ...  0.222265  0.147660  0.525966   \n",
       "2     1.783552  0.258795  2.147883  ...  0.227446  0.143169  0.508214   \n",
       "3     2.312324  0.209154  1.733692  ...  0.207185  0.140063  0.561721   \n",
       "4     2.375283  0.218538  1.843255  ...  0.213444  0.140775  0.534845   \n",
       "..         ...       ...       ...  ...       ...       ...       ...   \n",
       "220   2.178982  0.165398  0.770115  ...  0.278251  0.122747  0.400268   \n",
       "221   2.475735  0.184040  0.913363  ...  0.273234  0.119881  0.407596   \n",
       "222   1.919489  0.162780  0.720767  ...  0.289738  0.118758  0.431334   \n",
       "223   1.908112  0.155823  0.772530  ...  0.279559  0.121366  0.395408   \n",
       "224   2.308557  0.181056  0.894797  ...  0.298115  0.123290  0.402706   \n",
       "\n",
       "       CaNA_N  Genotype_Control  Genotype_Ts65Dn  \\\n",
       "0    1.649983                 1                0   \n",
       "1    1.638988                 1                0   \n",
       "2    1.564925                 1                0   \n",
       "3    1.682222                 1                0   \n",
       "4    1.660352                 1                0   \n",
       "..        ...               ...              ...   \n",
       "220  1.160740                 0                1   \n",
       "221  1.139347                 0                1   \n",
       "222  1.142205                 0                1   \n",
       "223  1.112718                 0                1   \n",
       "224  1.171785                 0                1   \n",
       "\n",
       "     Treatment_Behavior_Memantine_C/S  Treatment_Behavior_Memantine_S/C  \\\n",
       "0                                   1                                 0   \n",
       "1                                   1                                 0   \n",
       "2                                   1                                 0   \n",
       "3                                   1                                 0   \n",
       "4                                   1                                 0   \n",
       "..                                ...                               ...   \n",
       "220                                 0                                 0   \n",
       "221                                 0                                 0   \n",
       "222                                 0                                 0   \n",
       "223                                 0                                 0   \n",
       "224                                 0                                 0   \n",
       "\n",
       "     Treatment_Behavior_Saline_C/S  Treatment_Behavior_Saline_S/C  \n",
       "0                                0                              0  \n",
       "1                                0                              0  \n",
       "2                                0                              0  \n",
       "3                                0                              0  \n",
       "4                                0                              0  \n",
       "..                             ...                            ...  \n",
       "220                              0                              1  \n",
       "221                              0                              1  \n",
       "222                              0                              1  \n",
       "223                              0                              1  \n",
       "224                              0                              1  \n",
       "\n",
       "[225 rows x 77 columns]"
      ]
     },
     "metadata": {},
     "output_type": "display_data"
    }
   ],
   "source": [
    "#Perform one-hot-bit encoding\n",
    "\n",
    "train_data = pd.get_dummies(train_data, columns = ['Genotype', 'Treatment_Behavior'])\n",
    "display(train_data)\n",
    "\n",
    "test_data = pd.get_dummies(test_data, columns = ['Genotype', 'Treatment_Behavior'])\n",
    "display(test_data)"
   ]
  },
  {
   "cell_type": "code",
   "execution_count": 9,
   "metadata": {},
   "outputs": [],
   "source": [
    "#Impute variables that have few missing entries\n",
    "\n",
    "from sklearn.experimental import enable_iterative_imputer\n",
    "from sklearn.impute import IterativeImputer\n",
    "\n",
    "temp = train_data\n",
    "imp = IterativeImputer(max_iter=5, random_state=0)\n",
    "imp.fit(temp)\n",
    "temp = imp.transform(temp)\n",
    "train_data = pd.DataFrame(temp)\n",
    "\n",
    "temp = test_data\n",
    "imp.fit(temp)\n",
    "temp = imp.transform(temp)\n",
    "test_data = pd.DataFrame(temp)"
   ]
  },
  {
   "cell_type": "code",
   "execution_count": 10,
   "metadata": {},
   "outputs": [
    {
     "name": "stdout",
     "output_type": "stream",
     "text": [
      "end\n"
     ]
    }
   ],
   "source": [
    "#Code snippet taken from the ML for Monkeys video\n",
    "#Check to see that there are no more null entries\n",
    "\n",
    "for col in train_data.columns.values:\n",
    "    list_vals = pd.unique(train_data[col])   #Create a list of unique values\n",
    "    if(train_data[col].isna().sum()!=0):    #uncomment to print only those columns which have null entries\n",
    "        print(col + ' is of type ' + str(train_data[col].dtypes) + ', has ' + str(len(list_vals)) + ' unique values, and ' + str(train_data[col].isna().sum()) + ' Null entries')\n",
    "for col in test_data.columns.values:\n",
    "    list_vals = pd.unique(test_data[col])   #Create a list of unique values\n",
    "    if(test_data[col].isna().sum()!=0):    #uncomment to print only those columns which have null entries\n",
    "        print(col + ' is of type ' + str(test_data[col].dtypes) + ', has ' + str(len(list_vals)) + ' unique values, and ' + str(test_data[col].isna().sum()) + ' Null entries')\n",
    "print('end')"
   ]
  },
  {
   "cell_type": "markdown",
   "metadata": {},
   "source": [
    "Now that we have all the variables, we will calculate the correlation matrix and eliminate unnecessary variables"
   ]
  },
  {
   "cell_type": "code",
   "execution_count": 11,
   "metadata": {},
   "outputs": [
    {
     "data": {
      "image/png": "[encoded data removed]",
      "text/plain": [
       "<Figure size 1440x1152 with 2 Axes>"
      ]
     },
     "metadata": {
      "needs_background": "light"
     },
     "output_type": "display_data"
    },
    {
     "data": {
      "image/png": "[encoded data removed]",
      "text/plain": [
       "<Figure size 1440x1152 with 2 Axes>"
      ]
     },
     "metadata": {
      "needs_background": "light"
     },
     "output_type": "display_data"
    }
   ],
   "source": [
    "#Code snippet taken from the ML for monkeys video\n",
    "\n",
    "corrMatrix = train_data.corr(method = 'spearman') #use spearman for non-linear\n",
    "fig, ax = plt.subplots(figsize=(20,16))\n",
    "sns.heatmap(abs(corrMatrix), annot = False)\n",
    "plt.show()\n",
    "\n",
    "#Code to simplify the heatmap to clearly depict correlation values greater than chosen threshold\n",
    "\n",
    "threshold = 0.85\n",
    "corrMatrix = abs(corrMatrix)\n",
    "for i in corrMatrix.columns.values:\n",
    "    for j in corrMatrix.columns.values:\n",
    "        if corrMatrix[i][j]>threshold:\n",
    "            corrMatrix[i][j] = 1   # will show up as white sopts\n",
    "        else:\n",
    "            corrMatrix[i][j] = 0   # will show up as dark spots\n",
    "fig, ax = plt.subplots(figsize=(20,16))\n",
    "sns.heatmap(abs(corrMatrix), annot = False)\n",
    "plt.show()"
   ]
  },
  {
   "cell_type": "markdown",
   "metadata": {},
   "source": [
    "Observation:  Based on the correlation matrix, I have decided to eliminate the following variables  \n",
    "&emsp;    53, 33, 23, 20, 16, 14, 10, 5, 4, 3, 1\n",
    "\n",
    "Next: Normalize ranges"
   ]
  },
  {
   "cell_type": "code",
   "execution_count": 12,
   "metadata": {
    "scrolled": false
   },
   "outputs": [
    {
     "data": {
      "text/html": [
       "<div>\n",
       "<style scoped>\n",
       "    .dataframe tbody tr th:only-of-type {\n",
       "        vertical-align: middle;\n",
       "    }\n",
       "\n",
       "    .dataframe tbody tr th {\n",
       "        vertical-align: top;\n",
       "    }\n",
       "\n",
       "    .dataframe thead th {\n",
       "        text-align: right;\n",
       "    }\n",
       "</style>\n",
       "<table border=\"1\" class=\"dataframe\">\n",
       "  <thead>\n",
       "    <tr style=\"text-align: right;\">\n",
       "      <th></th>\n",
       "      <th>0</th>\n",
       "      <th>1</th>\n",
       "      <th>2</th>\n",
       "      <th>3</th>\n",
       "      <th>4</th>\n",
       "      <th>5</th>\n",
       "      <th>6</th>\n",
       "      <th>7</th>\n",
       "      <th>8</th>\n",
       "      <th>9</th>\n",
       "      <th>...</th>\n",
       "      <th>50</th>\n",
       "      <th>51</th>\n",
       "      <th>52</th>\n",
       "      <th>53</th>\n",
       "      <th>54</th>\n",
       "      <th>55</th>\n",
       "      <th>56</th>\n",
       "      <th>57</th>\n",
       "      <th>58</th>\n",
       "      <th>59</th>\n",
       "    </tr>\n",
       "  </thead>\n",
       "  <tbody>\n",
       "    <tr>\n",
       "      <th>0</th>\n",
       "      <td>0.239745</td>\n",
       "      <td>2.372452</td>\n",
       "      <td>-0.186528</td>\n",
       "      <td>-0.898820</td>\n",
       "      <td>0.648744</td>\n",
       "      <td>0.595213</td>\n",
       "      <td>-0.148771</td>\n",
       "      <td>1.744386</td>\n",
       "      <td>0.498880</td>\n",
       "      <td>-0.638085</td>\n",
       "      <td>...</td>\n",
       "      <td>-1.380069</td>\n",
       "      <td>0.281954</td>\n",
       "      <td>-0.887186</td>\n",
       "      <td>-2.087024</td>\n",
       "      <td>-1.095437</td>\n",
       "      <td>-0.158189</td>\n",
       "      <td>-1.269701</td>\n",
       "      <td>-1.058433</td>\n",
       "      <td>-0.371984</td>\n",
       "      <td>0.943046</td>\n",
       "    </tr>\n",
       "    <tr>\n",
       "      <th>1</th>\n",
       "      <td>0.279648</td>\n",
       "      <td>1.976690</td>\n",
       "      <td>-0.365510</td>\n",
       "      <td>-0.963191</td>\n",
       "      <td>0.479587</td>\n",
       "      <td>0.292333</td>\n",
       "      <td>-0.292219</td>\n",
       "      <td>1.400565</td>\n",
       "      <td>0.143512</td>\n",
       "      <td>-0.735638</td>\n",
       "      <td>...</td>\n",
       "      <td>-1.045982</td>\n",
       "      <td>0.557972</td>\n",
       "      <td>-0.926013</td>\n",
       "      <td>-2.026218</td>\n",
       "      <td>-1.298497</td>\n",
       "      <td>0.025901</td>\n",
       "      <td>-0.878703</td>\n",
       "      <td>-1.039198</td>\n",
       "      <td>-0.139388</td>\n",
       "      <td>1.144768</td>\n",
       "    </tr>\n",
       "    <tr>\n",
       "      <th>2</th>\n",
       "      <td>0.259888</td>\n",
       "      <td>2.117287</td>\n",
       "      <td>-0.256006</td>\n",
       "      <td>-0.970144</td>\n",
       "      <td>0.585066</td>\n",
       "      <td>0.223626</td>\n",
       "      <td>-0.444364</td>\n",
       "      <td>1.298019</td>\n",
       "      <td>0.152424</td>\n",
       "      <td>-0.655447</td>\n",
       "      <td>...</td>\n",
       "      <td>-1.121745</td>\n",
       "      <td>0.524945</td>\n",
       "      <td>-0.879791</td>\n",
       "      <td>-2.088555</td>\n",
       "      <td>-1.373918</td>\n",
       "      <td>-0.000721</td>\n",
       "      <td>-1.106122</td>\n",
       "      <td>-0.924510</td>\n",
       "      <td>-0.232612</td>\n",
       "      <td>1.687436</td>\n",
       "    </tr>\n",
       "    <tr>\n",
       "      <th>3</th>\n",
       "      <td>0.015969</td>\n",
       "      <td>0.833934</td>\n",
       "      <td>-0.228099</td>\n",
       "      <td>-1.073520</td>\n",
       "      <td>-0.163587</td>\n",
       "      <td>0.289803</td>\n",
       "      <td>-0.337665</td>\n",
       "      <td>1.217463</td>\n",
       "      <td>0.883760</td>\n",
       "      <td>-1.097899</td>\n",
       "      <td>...</td>\n",
       "      <td>-1.262071</td>\n",
       "      <td>-0.196792</td>\n",
       "      <td>-1.105121</td>\n",
       "      <td>-1.619239</td>\n",
       "      <td>-1.412237</td>\n",
       "      <td>-0.140312</td>\n",
       "      <td>-1.159352</td>\n",
       "      <td>-1.267675</td>\n",
       "      <td>-0.940673</td>\n",
       "      <td>1.016991</td>\n",
       "    </tr>\n",
       "    <tr>\n",
       "      <th>4</th>\n",
       "      <td>-0.010091</td>\n",
       "      <td>0.837716</td>\n",
       "      <td>-0.334981</td>\n",
       "      <td>-1.087947</td>\n",
       "      <td>-0.641792</td>\n",
       "      <td>0.111757</td>\n",
       "      <td>-0.528799</td>\n",
       "      <td>0.937971</td>\n",
       "      <td>0.067135</td>\n",
       "      <td>-1.164159</td>\n",
       "      <td>...</td>\n",
       "      <td>-1.239898</td>\n",
       "      <td>0.005746</td>\n",
       "      <td>-0.908986</td>\n",
       "      <td>-1.633649</td>\n",
       "      <td>-1.368552</td>\n",
       "      <td>0.331411</td>\n",
       "      <td>-0.702678</td>\n",
       "      <td>-1.160421</td>\n",
       "      <td>-0.258680</td>\n",
       "      <td>1.430089</td>\n",
       "    </tr>\n",
       "    <tr>\n",
       "      <th>...</th>\n",
       "      <td>...</td>\n",
       "      <td>...</td>\n",
       "      <td>...</td>\n",
       "      <td>...</td>\n",
       "      <td>...</td>\n",
       "      <td>...</td>\n",
       "      <td>...</td>\n",
       "      <td>...</td>\n",
       "      <td>...</td>\n",
       "      <td>...</td>\n",
       "      <td>...</td>\n",
       "      <td>...</td>\n",
       "      <td>...</td>\n",
       "      <td>...</td>\n",
       "      <td>...</td>\n",
       "      <td>...</td>\n",
       "      <td>...</td>\n",
       "      <td>...</td>\n",
       "      <td>...</td>\n",
       "      <td>...</td>\n",
       "      <td>...</td>\n",
       "    </tr>\n",
       "    <tr>\n",
       "      <th>757</th>\n",
       "      <td>-0.158354</td>\n",
       "      <td>-0.070527</td>\n",
       "      <td>0.683866</td>\n",
       "      <td>-0.240028</td>\n",
       "      <td>0.313292</td>\n",
       "      <td>-0.447289</td>\n",
       "      <td>0.075654</td>\n",
       "      <td>-0.236481</td>\n",
       "      <td>0.178041</td>\n",
       "      <td>-0.308574</td>\n",
       "      <td>...</td>\n",
       "      <td>0.731460</td>\n",
       "      <td>0.360773</td>\n",
       "      <td>-0.047640</td>\n",
       "      <td>-0.439440</td>\n",
       "      <td>-0.567211</td>\n",
       "      <td>1.606940</td>\n",
       "      <td>-0.346465</td>\n",
       "      <td>-0.178772</td>\n",
       "      <td>-0.145392</td>\n",
       "      <td>0.345848</td>\n",
       "    </tr>\n",
       "    <tr>\n",
       "      <th>758</th>\n",
       "      <td>-0.130826</td>\n",
       "      <td>0.042935</td>\n",
       "      <td>0.313293</td>\n",
       "      <td>-0.101537</td>\n",
       "      <td>0.638293</td>\n",
       "      <td>-0.385489</td>\n",
       "      <td>0.309205</td>\n",
       "      <td>0.124020</td>\n",
       "      <td>0.581466</td>\n",
       "      <td>-0.078981</td>\n",
       "      <td>...</td>\n",
       "      <td>0.877892</td>\n",
       "      <td>0.501014</td>\n",
       "      <td>0.094639</td>\n",
       "      <td>-0.213325</td>\n",
       "      <td>-0.463558</td>\n",
       "      <td>2.043400</td>\n",
       "      <td>-0.563470</td>\n",
       "      <td>-0.269046</td>\n",
       "      <td>-0.085877</td>\n",
       "      <td>0.470936</td>\n",
       "    </tr>\n",
       "    <tr>\n",
       "      <th>759</th>\n",
       "      <td>-0.201944</td>\n",
       "      <td>-0.027925</td>\n",
       "      <td>0.761884</td>\n",
       "      <td>-0.399737</td>\n",
       "      <td>0.366285</td>\n",
       "      <td>-0.388938</td>\n",
       "      <td>0.793714</td>\n",
       "      <td>0.129006</td>\n",
       "      <td>0.804794</td>\n",
       "      <td>-0.358233</td>\n",
       "      <td>...</td>\n",
       "      <td>0.641359</td>\n",
       "      <td>-0.118256</td>\n",
       "      <td>-0.538346</td>\n",
       "      <td>-0.283178</td>\n",
       "      <td>-0.224671</td>\n",
       "      <td>1.060202</td>\n",
       "      <td>-0.510605</td>\n",
       "      <td>-0.399556</td>\n",
       "      <td>-0.441216</td>\n",
       "      <td>0.224291</td>\n",
       "    </tr>\n",
       "    <tr>\n",
       "      <th>760</th>\n",
       "      <td>-0.262164</td>\n",
       "      <td>-0.469880</td>\n",
       "      <td>0.296632</td>\n",
       "      <td>-0.445606</td>\n",
       "      <td>0.174685</td>\n",
       "      <td>-0.528465</td>\n",
       "      <td>0.231584</td>\n",
       "      <td>-0.152548</td>\n",
       "      <td>0.446939</td>\n",
       "      <td>-0.403817</td>\n",
       "      <td>...</td>\n",
       "      <td>1.254477</td>\n",
       "      <td>0.140343</td>\n",
       "      <td>-0.138255</td>\n",
       "      <td>-0.214345</td>\n",
       "      <td>-0.122178</td>\n",
       "      <td>1.549577</td>\n",
       "      <td>-0.979130</td>\n",
       "      <td>-0.096908</td>\n",
       "      <td>0.154848</td>\n",
       "      <td>0.550098</td>\n",
       "    </tr>\n",
       "    <tr>\n",
       "      <th>761</th>\n",
       "      <td>-0.262225</td>\n",
       "      <td>-0.393614</td>\n",
       "      <td>0.614567</td>\n",
       "      <td>-0.349979</td>\n",
       "      <td>0.471977</td>\n",
       "      <td>-0.444307</td>\n",
       "      <td>0.729980</td>\n",
       "      <td>-0.160116</td>\n",
       "      <td>0.477571</td>\n",
       "      <td>-0.344617</td>\n",
       "      <td>...</td>\n",
       "      <td>1.203256</td>\n",
       "      <td>0.647929</td>\n",
       "      <td>0.166308</td>\n",
       "      <td>-0.208431</td>\n",
       "      <td>0.291279</td>\n",
       "      <td>1.919523</td>\n",
       "      <td>-0.024514</td>\n",
       "      <td>-0.023910</td>\n",
       "      <td>-0.418099</td>\n",
       "      <td>0.481340</td>\n",
       "    </tr>\n",
       "  </tbody>\n",
       "</table>\n",
       "<p>762 rows × 60 columns</p>\n",
       "</div>"
      ],
      "text/plain": [
       "           0         1         2         3         4         5         6   \\\n",
       "0    0.239745  2.372452 -0.186528 -0.898820  0.648744  0.595213 -0.148771   \n",
       "1    0.279648  1.976690 -0.365510 -0.963191  0.479587  0.292333 -0.292219   \n",
       "2    0.259888  2.117287 -0.256006 -0.970144  0.585066  0.223626 -0.444364   \n",
       "3    0.015969  0.833934 -0.228099 -1.073520 -0.163587  0.289803 -0.337665   \n",
       "4   -0.010091  0.837716 -0.334981 -1.087947 -0.641792  0.111757 -0.528799   \n",
       "..        ...       ...       ...       ...       ...       ...       ...   \n",
       "757 -0.158354 -0.070527  0.683866 -0.240028  0.313292 -0.447289  0.075654   \n",
       "758 -0.130826  0.042935  0.313293 -0.101537  0.638293 -0.385489  0.309205   \n",
       "759 -0.201944 -0.027925  0.761884 -0.399737  0.366285 -0.388938  0.793714   \n",
       "760 -0.262164 -0.469880  0.296632 -0.445606  0.174685 -0.528465  0.231584   \n",
       "761 -0.262225 -0.393614  0.614567 -0.349979  0.471977 -0.444307  0.729980   \n",
       "\n",
       "           7         8         9   ...        50        51        52  \\\n",
       "0    1.744386  0.498880 -0.638085  ... -1.380069  0.281954 -0.887186   \n",
       "1    1.400565  0.143512 -0.735638  ... -1.045982  0.557972 -0.926013   \n",
       "2    1.298019  0.152424 -0.655447  ... -1.121745  0.524945 -0.879791   \n",
       "3    1.217463  0.883760 -1.097899  ... -1.262071 -0.196792 -1.105121   \n",
       "4    0.937971  0.067135 -1.164159  ... -1.239898  0.005746 -0.908986   \n",
       "..        ...       ...       ...  ...       ...       ...       ...   \n",
       "757 -0.236481  0.178041 -0.308574  ...  0.731460  0.360773 -0.047640   \n",
       "758  0.124020  0.581466 -0.078981  ...  0.877892  0.501014  0.094639   \n",
       "759  0.129006  0.804794 -0.358233  ...  0.641359 -0.118256 -0.538346   \n",
       "760 -0.152548  0.446939 -0.403817  ...  1.254477  0.140343 -0.138255   \n",
       "761 -0.160116  0.477571 -0.344617  ...  1.203256  0.647929  0.166308   \n",
       "\n",
       "           53        54        55        56        57        58        59  \n",
       "0   -2.087024 -1.095437 -0.158189 -1.269701 -1.058433 -0.371984  0.943046  \n",
       "1   -2.026218 -1.298497  0.025901 -0.878703 -1.039198 -0.139388  1.144768  \n",
       "2   -2.088555 -1.373918 -0.000721 -1.106122 -0.924510 -0.232612  1.687436  \n",
       "3   -1.619239 -1.412237 -0.140312 -1.159352 -1.267675 -0.940673  1.016991  \n",
       "4   -1.633649 -1.368552  0.331411 -0.702678 -1.160421 -0.258680  1.430089  \n",
       "..        ...       ...       ...       ...       ...       ...       ...  \n",
       "757 -0.439440 -0.567211  1.606940 -0.346465 -0.178772 -0.145392  0.345848  \n",
       "758 -0.213325 -0.463558  2.043400 -0.563470 -0.269046 -0.085877  0.470936  \n",
       "759 -0.283178 -0.224671  1.060202 -0.510605 -0.399556 -0.441216  0.224291  \n",
       "760 -0.214345 -0.122178  1.549577 -0.979130 -0.096908  0.154848  0.550098  \n",
       "761 -0.208431  0.291279  1.919523 -0.024514 -0.023910 -0.418099  0.481340  \n",
       "\n",
       "[762 rows x 60 columns]"
      ]
     },
     "metadata": {},
     "output_type": "display_data"
    },
    {
     "name": "stdout",
     "output_type": "stream",
     "text": [
      "0    -1.347712e-17\n",
      "1     2.678668e-16\n",
      "2     1.061997e-15\n",
      "3     2.433166e-16\n",
      "4     7.226649e-16\n",
      "5    -3.093180e-16\n",
      "6     7.746792e-16\n",
      "7     6.118611e-16\n",
      "8    -1.009691e-16\n",
      "9    -6.251925e-16\n",
      "10   -1.600134e-16\n",
      "11    3.208282e-16\n",
      "12   -9.358947e-16\n",
      "13   -7.564487e-16\n",
      "14    4.376785e-16\n",
      "15    4.892558e-16\n",
      "16    1.255011e-16\n",
      "17    1.937791e-17\n",
      "18   -9.656901e-16\n",
      "19    9.018741e-16\n",
      "20   -5.226936e-16\n",
      "21    5.724770e-16\n",
      "22    2.115543e-16\n",
      "23    9.659815e-17\n",
      "24    6.925781e-16\n",
      "25   -9.199407e-16\n",
      "26    2.832380e-16\n",
      "27    1.814676e-16\n",
      "28    9.514844e-16\n",
      "29   -4.614364e-16\n",
      "30    4.711891e-16\n",
      "31    1.467002e-17\n",
      "32   -1.864942e-16\n",
      "33   -8.717145e-16\n",
      "34    1.567717e-16\n",
      "35   -2.351575e-16\n",
      "36   -8.042560e-17\n",
      "37    6.859488e-16\n",
      "38    5.297600e-16\n",
      "39    4.187377e-16\n",
      "40    1.499238e-16\n",
      "41   -2.127927e-16\n",
      "42    3.812931e-16\n",
      "43   -9.950847e-16\n",
      "44    3.214110e-16\n",
      "45    2.660456e-16\n",
      "46   -5.245148e-18\n",
      "47    1.860571e-16\n",
      "48    2.927084e-16\n",
      "49   -7.239761e-16\n",
      "50    4.091216e-16\n",
      "51    1.289432e-16\n",
      "52    8.426112e-16\n",
      "53   -1.238438e-18\n",
      "54    3.485838e-16\n",
      "55    9.857965e-16\n",
      "56   -1.397618e-15\n",
      "57    2.890068e-16\n",
      "58    1.006049e-16\n",
      "59   -8.280778e-16\n",
      "dtype: float64\n"
     ]
    },
    {
     "data": {
      "image/png": "[encoded data removed]",
      "text/plain": [
       "<Figure size 1440x1152 with 2 Axes>"
      ]
     },
     "metadata": {
      "needs_background": "light"
     },
     "output_type": "display_data"
    },
    {
     "data": {
      "image/png": "[encoded data removed]",
      "text/plain": [
       "<Figure size 1440x1152 with 2 Axes>"
      ]
     },
     "metadata": {
      "needs_background": "light"
     },
     "output_type": "display_data"
    }
   ],
   "source": [
    "#Code to normalize ranges taken from the ML for Monkeys video\n",
    "\n",
    "from sklearn import preprocessing\n",
    "\n",
    "scaler = preprocessing.StandardScaler() #For data normalization\n",
    "\n",
    "#Drop data that is correlated\n",
    "temp = train_data.drop([71, 72, 73, 74, 75, 76, 53, 33, 23, 20, 16, 14, 10, 5, 4, 3, 1], axis = 1)\n",
    "\n",
    "scaler.fit(temp)\n",
    "train_X = pd.DataFrame(scaler.transform(temp))\n",
    "train_Y1 = pd.DataFrame(train_data[[71, 72]])\n",
    "train_Y2 = pd.DataFrame(train_data[[73, 74, 75, 76]])\n",
    "display(train_X)\n",
    "#display(train_Y1)\n",
    "#display(train_Y2)\n",
    "print(train_X.mean())\n",
    "\n",
    "train_X_np = train_X.to_numpy()\n",
    "train_Y1_np = train_Y1.to_numpy()\n",
    "train_Y2_np = train_Y2.to_numpy()\n",
    "\n",
    "corrMatrix = train_X.corr(method = 'spearman') #use spearman for non-linear\n",
    "fig, ax = plt.subplots(figsize=(20,16))\n",
    "sns.heatmap(abs(corrMatrix), annot = False)\n",
    "plt.show()\n",
    "\n",
    "#Code to simplify the heatmap to clearly depict correlation values greater than chosen threshold\n",
    "threshold = 0.85\n",
    "corrMatrix = abs(corrMatrix)\n",
    "for i in corrMatrix.columns.values:\n",
    "    for j in corrMatrix.columns.values:\n",
    "        if corrMatrix[i][j]>threshold:\n",
    "            corrMatrix[i][j] = 1   # will show up as white sopts\n",
    "        else:\n",
    "            corrMatrix[i][j] = 0   # will show up as dark spots\n",
    "fig, ax = plt.subplots(figsize=(20,16))\n",
    "sns.heatmap(abs(corrMatrix), annot = False)\n",
    "plt.show()"
   ]
  },
  {
   "cell_type": "markdown",
   "metadata": {},
   "source": [
    "Observations:\n",
    "    1. All means are zeros\n",
    "    2. Variables selected are uncorrelated to each other\n",
    "\n",
    "Next:\n",
    "    Transform test data with the automation that worked for training data"
   ]
  },
  {
   "cell_type": "code",
   "execution_count": 13,
   "metadata": {
    "scrolled": false
   },
   "outputs": [
    {
     "data": {
      "text/html": [
       "<div>\n",
       "<style scoped>\n",
       "    .dataframe tbody tr th:only-of-type {\n",
       "        vertical-align: middle;\n",
       "    }\n",
       "\n",
       "    .dataframe tbody tr th {\n",
       "        vertical-align: top;\n",
       "    }\n",
       "\n",
       "    .dataframe thead th {\n",
       "        text-align: right;\n",
       "    }\n",
       "</style>\n",
       "<table border=\"1\" class=\"dataframe\">\n",
       "  <thead>\n",
       "    <tr style=\"text-align: right;\">\n",
       "      <th></th>\n",
       "      <th>0</th>\n",
       "      <th>1</th>\n",
       "      <th>2</th>\n",
       "      <th>3</th>\n",
       "      <th>4</th>\n",
       "      <th>5</th>\n",
       "      <th>6</th>\n",
       "      <th>7</th>\n",
       "      <th>8</th>\n",
       "      <th>9</th>\n",
       "      <th>...</th>\n",
       "      <th>50</th>\n",
       "      <th>51</th>\n",
       "      <th>52</th>\n",
       "      <th>53</th>\n",
       "      <th>54</th>\n",
       "      <th>55</th>\n",
       "      <th>56</th>\n",
       "      <th>57</th>\n",
       "      <th>58</th>\n",
       "      <th>59</th>\n",
       "    </tr>\n",
       "  </thead>\n",
       "  <tbody>\n",
       "    <tr>\n",
       "      <th>0</th>\n",
       "      <td>0.690436</td>\n",
       "      <td>2.733338</td>\n",
       "      <td>0.116273</td>\n",
       "      <td>-1.378978</td>\n",
       "      <td>0.649811</td>\n",
       "      <td>0.707257</td>\n",
       "      <td>0.678681</td>\n",
       "      <td>0.625030</td>\n",
       "      <td>-0.661457</td>\n",
       "      <td>1.532089</td>\n",
       "      <td>...</td>\n",
       "      <td>0.477618</td>\n",
       "      <td>1.030110</td>\n",
       "      <td>-0.106403</td>\n",
       "      <td>-0.457116</td>\n",
       "      <td>-0.313551</td>\n",
       "      <td>-0.135877</td>\n",
       "      <td>-0.504425</td>\n",
       "      <td>1.788367</td>\n",
       "      <td>1.461241</td>\n",
       "      <td>0.866849</td>\n",
       "    </tr>\n",
       "    <tr>\n",
       "      <th>1</th>\n",
       "      <td>0.776517</td>\n",
       "      <td>3.120512</td>\n",
       "      <td>0.224612</td>\n",
       "      <td>-1.345284</td>\n",
       "      <td>1.511866</td>\n",
       "      <td>1.006260</td>\n",
       "      <td>0.780573</td>\n",
       "      <td>0.921554</td>\n",
       "      <td>-0.327430</td>\n",
       "      <td>1.706478</td>\n",
       "      <td>...</td>\n",
       "      <td>1.031888</td>\n",
       "      <td>0.929647</td>\n",
       "      <td>-0.127611</td>\n",
       "      <td>0.095380</td>\n",
       "      <td>-0.973078</td>\n",
       "      <td>-0.087196</td>\n",
       "      <td>-0.138752</td>\n",
       "      <td>1.713740</td>\n",
       "      <td>1.215918</td>\n",
       "      <td>0.834214</td>\n",
       "    </tr>\n",
       "    <tr>\n",
       "      <th>2</th>\n",
       "      <td>0.751398</td>\n",
       "      <td>3.230000</td>\n",
       "      <td>0.002852</td>\n",
       "      <td>-1.364432</td>\n",
       "      <td>1.504605</td>\n",
       "      <td>1.373089</td>\n",
       "      <td>0.933523</td>\n",
       "      <td>1.038457</td>\n",
       "      <td>-0.352135</td>\n",
       "      <td>1.790330</td>\n",
       "      <td>...</td>\n",
       "      <td>0.819475</td>\n",
       "      <td>0.562352</td>\n",
       "      <td>-0.572145</td>\n",
       "      <td>0.245776</td>\n",
       "      <td>-0.988896</td>\n",
       "      <td>-0.419775</td>\n",
       "      <td>0.036589</td>\n",
       "      <td>1.412667</td>\n",
       "      <td>0.930800</td>\n",
       "      <td>0.614366</td>\n",
       "    </tr>\n",
       "    <tr>\n",
       "      <th>3</th>\n",
       "      <td>0.474605</td>\n",
       "      <td>1.583064</td>\n",
       "      <td>-0.098363</td>\n",
       "      <td>-0.947276</td>\n",
       "      <td>-0.094331</td>\n",
       "      <td>0.561422</td>\n",
       "      <td>0.456061</td>\n",
       "      <td>0.365967</td>\n",
       "      <td>-0.554919</td>\n",
       "      <td>0.743426</td>\n",
       "      <td>...</td>\n",
       "      <td>0.096214</td>\n",
       "      <td>0.475716</td>\n",
       "      <td>-0.160083</td>\n",
       "      <td>-0.475173</td>\n",
       "      <td>0.328323</td>\n",
       "      <td>-0.026674</td>\n",
       "      <td>-0.649162</td>\n",
       "      <td>1.204454</td>\n",
       "      <td>1.790168</td>\n",
       "      <td>0.962547</td>\n",
       "    </tr>\n",
       "    <tr>\n",
       "      <th>4</th>\n",
       "      <td>0.543003</td>\n",
       "      <td>1.964495</td>\n",
       "      <td>0.259532</td>\n",
       "      <td>-0.897607</td>\n",
       "      <td>0.207923</td>\n",
       "      <td>0.776127</td>\n",
       "      <td>0.676012</td>\n",
       "      <td>0.756565</td>\n",
       "      <td>-0.107731</td>\n",
       "      <td>0.932277</td>\n",
       "      <td>...</td>\n",
       "      <td>0.815023</td>\n",
       "      <td>0.385801</td>\n",
       "      <td>-0.141450</td>\n",
       "      <td>0.196686</td>\n",
       "      <td>-0.446604</td>\n",
       "      <td>0.076017</td>\n",
       "      <td>-0.437326</td>\n",
       "      <td>1.252237</td>\n",
       "      <td>1.358523</td>\n",
       "      <td>0.897630</td>\n",
       "    </tr>\n",
       "    <tr>\n",
       "      <th>...</th>\n",
       "      <td>...</td>\n",
       "      <td>...</td>\n",
       "      <td>...</td>\n",
       "      <td>...</td>\n",
       "      <td>...</td>\n",
       "      <td>...</td>\n",
       "      <td>...</td>\n",
       "      <td>...</td>\n",
       "      <td>...</td>\n",
       "      <td>...</td>\n",
       "      <td>...</td>\n",
       "      <td>...</td>\n",
       "      <td>...</td>\n",
       "      <td>...</td>\n",
       "      <td>...</td>\n",
       "      <td>...</td>\n",
       "      <td>...</td>\n",
       "      <td>...</td>\n",
       "      <td>...</td>\n",
       "      <td>...</td>\n",
       "      <td>...</td>\n",
       "    </tr>\n",
       "    <tr>\n",
       "      <th>220</th>\n",
       "      <td>-0.766618</td>\n",
       "      <td>-1.529945</td>\n",
       "      <td>-1.264085</td>\n",
       "      <td>-1.052471</td>\n",
       "      <td>-1.503745</td>\n",
       "      <td>-1.326849</td>\n",
       "      <td>-1.555131</td>\n",
       "      <td>-1.964587</td>\n",
       "      <td>-1.296014</td>\n",
       "      <td>-1.561319</td>\n",
       "      <td>...</td>\n",
       "      <td>0.583542</td>\n",
       "      <td>-0.556710</td>\n",
       "      <td>-0.919484</td>\n",
       "      <td>0.314863</td>\n",
       "      <td>-0.452437</td>\n",
       "      <td>0.067399</td>\n",
       "      <td>1.756204</td>\n",
       "      <td>0.043735</td>\n",
       "      <td>-0.802920</td>\n",
       "      <td>-0.585401</td>\n",
       "    </tr>\n",
       "    <tr>\n",
       "      <th>221</th>\n",
       "      <td>-0.642223</td>\n",
       "      <td>-0.928641</td>\n",
       "      <td>-0.245226</td>\n",
       "      <td>-0.818358</td>\n",
       "      <td>-0.903285</td>\n",
       "      <td>-1.046133</td>\n",
       "      <td>-0.974527</td>\n",
       "      <td>-1.207344</td>\n",
       "      <td>-0.410034</td>\n",
       "      <td>-1.210869</td>\n",
       "      <td>...</td>\n",
       "      <td>0.197139</td>\n",
       "      <td>-0.545324</td>\n",
       "      <td>-1.249934</td>\n",
       "      <td>0.115656</td>\n",
       "      <td>-0.638031</td>\n",
       "      <td>-0.092644</td>\n",
       "      <td>1.586396</td>\n",
       "      <td>-0.148377</td>\n",
       "      <td>-0.685217</td>\n",
       "      <td>-0.648904</td>\n",
       "    </tr>\n",
       "    <tr>\n",
       "      <th>222</th>\n",
       "      <td>-0.805765</td>\n",
       "      <td>-1.680477</td>\n",
       "      <td>-1.165331</td>\n",
       "      <td>-1.257190</td>\n",
       "      <td>-1.588081</td>\n",
       "      <td>-1.423554</td>\n",
       "      <td>-1.764721</td>\n",
       "      <td>-1.673259</td>\n",
       "      <td>-1.213299</td>\n",
       "      <td>-1.723373</td>\n",
       "      <td>...</td>\n",
       "      <td>0.812773</td>\n",
       "      <td>-0.847182</td>\n",
       "      <td>-1.247944</td>\n",
       "      <td>0.512156</td>\n",
       "      <td>-0.345274</td>\n",
       "      <td>-0.070631</td>\n",
       "      <td>2.144996</td>\n",
       "      <td>-0.223702</td>\n",
       "      <td>-0.303973</td>\n",
       "      <td>-0.640422</td>\n",
       "    </tr>\n",
       "    <tr>\n",
       "      <th>223</th>\n",
       "      <td>-0.819455</td>\n",
       "      <td>-1.737614</td>\n",
       "      <td>-1.472285</td>\n",
       "      <td>-1.266165</td>\n",
       "      <td>-1.812145</td>\n",
       "      <td>-1.322116</td>\n",
       "      <td>-1.790394</td>\n",
       "      <td>-2.098680</td>\n",
       "      <td>-1.356817</td>\n",
       "      <td>-1.722382</td>\n",
       "      <td>...</td>\n",
       "      <td>0.938026</td>\n",
       "      <td>-0.761750</td>\n",
       "      <td>-1.418642</td>\n",
       "      <td>0.661591</td>\n",
       "      <td>-0.444716</td>\n",
       "      <td>-0.093497</td>\n",
       "      <td>1.800453</td>\n",
       "      <td>-0.048870</td>\n",
       "      <td>-0.880978</td>\n",
       "      <td>-0.727949</td>\n",
       "    </tr>\n",
       "    <tr>\n",
       "      <th>224</th>\n",
       "      <td>-0.656105</td>\n",
       "      <td>-0.648418</td>\n",
       "      <td>-0.198641</td>\n",
       "      <td>-0.950247</td>\n",
       "      <td>-0.999394</td>\n",
       "      <td>-1.082516</td>\n",
       "      <td>-1.008722</td>\n",
       "      <td>-1.309947</td>\n",
       "      <td>-0.459983</td>\n",
       "      <td>-1.288787</td>\n",
       "      <td>...</td>\n",
       "      <td>1.511439</td>\n",
       "      <td>-0.578124</td>\n",
       "      <td>-1.349792</td>\n",
       "      <td>0.764101</td>\n",
       "      <td>-0.458516</td>\n",
       "      <td>-0.083902</td>\n",
       "      <td>2.428525</td>\n",
       "      <td>0.080104</td>\n",
       "      <td>-0.763762</td>\n",
       "      <td>-0.552617</td>\n",
       "    </tr>\n",
       "  </tbody>\n",
       "</table>\n",
       "<p>225 rows × 60 columns</p>\n",
       "</div>"
      ],
      "text/plain": [
       "           0         1         2         3         4         5         6   \\\n",
       "0    0.690436  2.733338  0.116273 -1.378978  0.649811  0.707257  0.678681   \n",
       "1    0.776517  3.120512  0.224612 -1.345284  1.511866  1.006260  0.780573   \n",
       "2    0.751398  3.230000  0.002852 -1.364432  1.504605  1.373089  0.933523   \n",
       "3    0.474605  1.583064 -0.098363 -0.947276 -0.094331  0.561422  0.456061   \n",
       "4    0.543003  1.964495  0.259532 -0.897607  0.207923  0.776127  0.676012   \n",
       "..        ...       ...       ...       ...       ...       ...       ...   \n",
       "220 -0.766618 -1.529945 -1.264085 -1.052471 -1.503745 -1.326849 -1.555131   \n",
       "221 -0.642223 -0.928641 -0.245226 -0.818358 -0.903285 -1.046133 -0.974527   \n",
       "222 -0.805765 -1.680477 -1.165331 -1.257190 -1.588081 -1.423554 -1.764721   \n",
       "223 -0.819455 -1.737614 -1.472285 -1.266165 -1.812145 -1.322116 -1.790394   \n",
       "224 -0.656105 -0.648418 -0.198641 -0.950247 -0.999394 -1.082516 -1.008722   \n",
       "\n",
       "           7         8         9   ...        50        51        52  \\\n",
       "0    0.625030 -0.661457  1.532089  ...  0.477618  1.030110 -0.106403   \n",
       "1    0.921554 -0.327430  1.706478  ...  1.031888  0.929647 -0.127611   \n",
       "2    1.038457 -0.352135  1.790330  ...  0.819475  0.562352 -0.572145   \n",
       "3    0.365967 -0.554919  0.743426  ...  0.096214  0.475716 -0.160083   \n",
       "4    0.756565 -0.107731  0.932277  ...  0.815023  0.385801 -0.141450   \n",
       "..        ...       ...       ...  ...       ...       ...       ...   \n",
       "220 -1.964587 -1.296014 -1.561319  ...  0.583542 -0.556710 -0.919484   \n",
       "221 -1.207344 -0.410034 -1.210869  ...  0.197139 -0.545324 -1.249934   \n",
       "222 -1.673259 -1.213299 -1.723373  ...  0.812773 -0.847182 -1.247944   \n",
       "223 -2.098680 -1.356817 -1.722382  ...  0.938026 -0.761750 -1.418642   \n",
       "224 -1.309947 -0.459983 -1.288787  ...  1.511439 -0.578124 -1.349792   \n",
       "\n",
       "           53        54        55        56        57        58        59  \n",
       "0   -0.457116 -0.313551 -0.135877 -0.504425  1.788367  1.461241  0.866849  \n",
       "1    0.095380 -0.973078 -0.087196 -0.138752  1.713740  1.215918  0.834214  \n",
       "2    0.245776 -0.988896 -0.419775  0.036589  1.412667  0.930800  0.614366  \n",
       "3   -0.475173  0.328323 -0.026674 -0.649162  1.204454  1.790168  0.962547  \n",
       "4    0.196686 -0.446604  0.076017 -0.437326  1.252237  1.358523  0.897630  \n",
       "..        ...       ...       ...       ...       ...       ...       ...  \n",
       "220  0.314863 -0.452437  0.067399  1.756204  0.043735 -0.802920 -0.585401  \n",
       "221  0.115656 -0.638031 -0.092644  1.586396 -0.148377 -0.685217 -0.648904  \n",
       "222  0.512156 -0.345274 -0.070631  2.144996 -0.223702 -0.303973 -0.640422  \n",
       "223  0.661591 -0.444716 -0.093497  1.800453 -0.048870 -0.880978 -0.727949  \n",
       "224  0.764101 -0.458516 -0.083902  2.428525  0.080104 -0.763762 -0.552617  \n",
       "\n",
       "[225 rows x 60 columns]"
      ]
     },
     "metadata": {},
     "output_type": "display_data"
    },
    {
     "name": "stdout",
     "output_type": "stream",
     "text": [
      "0    -0.070128\n",
      "1    -0.275866\n",
      "2    -0.291273\n",
      "3    -0.308402\n",
      "4    -0.260192\n",
      "5    -0.055671\n",
      "6    -0.215556\n",
      "7    -0.262616\n",
      "8    -0.288158\n",
      "9     0.106362\n",
      "10   -0.051207\n",
      "11   -0.261075\n",
      "12   -0.070813\n",
      "13   -0.378903\n",
      "14   -0.376075\n",
      "15   -0.075279\n",
      "16   -0.095740\n",
      "17   -0.363269\n",
      "18   -0.332232\n",
      "19   -0.311165\n",
      "20   -0.361327\n",
      "21   -0.175744\n",
      "22   -0.237838\n",
      "23    0.304415\n",
      "24   -0.030478\n",
      "25   -0.050493\n",
      "26   -0.040709\n",
      "27   -0.137654\n",
      "28   -0.146482\n",
      "29   -0.198648\n",
      "30   -0.125741\n",
      "31   -0.206125\n",
      "32   -0.158677\n",
      "33   -0.081357\n",
      "34    0.019031\n",
      "35   -0.238539\n",
      "36   -0.202261\n",
      "37   -0.239198\n",
      "38   -0.021294\n",
      "39    0.312671\n",
      "40   -0.187592\n",
      "41   -0.159336\n",
      "42   -0.150795\n",
      "43   -0.064701\n",
      "44   -0.152225\n",
      "45   -0.199717\n",
      "46   -0.106286\n",
      "47   -0.117661\n",
      "48   -0.104003\n",
      "49    0.096301\n",
      "50    0.032777\n",
      "51    0.303399\n",
      "52   -0.192665\n",
      "53   -0.024427\n",
      "54   -0.089078\n",
      "55    0.021125\n",
      "56   -0.000038\n",
      "57   -0.089851\n",
      "58   -0.232596\n",
      "59   -0.104360\n",
      "dtype: float64\n"
     ]
    }
   ],
   "source": [
    "#Normalize test data using the same scaler that was fitted on training data\n",
    "\n",
    "#Drop same columns as that of training data\n",
    "temp = test_data.drop([71, 72, 73, 74, 75, 76, 53, 33, 23, 20, 16, 14, 10, 5, 4, 3, 1], axis = 1)\n",
    "\n",
    "test_X = pd.DataFrame(scaler.transform(temp))\n",
    "test_Y1 = pd.DataFrame(test_data[[71, 72]])\n",
    "test_Y2 = pd.DataFrame(test_data[[73, 74, 75, 76]])\n",
    "display(test_X)\n",
    "#display(test_Y1)\n",
    "#display(test_Y2)\n",
    "print(test_X.mean())\n",
    "\n",
    "test_X_np = test_X.to_numpy()\n",
    "test_Y1_np = test_Y1.to_numpy()\n",
    "test_Y2_np = test_Y2.to_numpy()"
   ]
  },
  {
   "cell_type": "markdown",
   "metadata": {},
   "source": [
    "Observations: Means are no longer zero since we did not refit the scaler on the test data"
   ]
  },
  {
   "cell_type": "markdown",
   "metadata": {},
   "source": [
    "## Rigorous training and validation\n",
    "### 1. Elastic net logistic regression (L1 and L2 weight)\n",
    "#### a. Genotype"
   ]
  },
  {
   "cell_type": "code",
   "execution_count": 14,
   "metadata": {
    "scrolled": false
   },
   "outputs": [
    {
     "name": "stderr",
     "output_type": "stream",
     "text": [
      "C:\\Users\\Public\\Anaconda\\lib\\site-packages\\sklearn\\linear_model\\_coordinate_descent.py:476: ConvergenceWarning: Objective did not converge. You might want to increase the number of iterations. Duality gap: 31.341110691098343, tolerance: 0.015141871921182276\n",
      "  positive)\n",
      "C:\\Users\\Public\\Anaconda\\lib\\site-packages\\sklearn\\linear_model\\_coordinate_descent.py:476: ConvergenceWarning: Objective did not converge. You might want to increase the number of iterations. Duality gap: 29.415632627467705, tolerance: 0.015141871921182276\n",
      "  positive)\n",
      "C:\\Users\\Public\\Anaconda\\lib\\site-packages\\sklearn\\linear_model\\_coordinate_descent.py:476: ConvergenceWarning: Objective did not converge. You might want to increase the number of iterations. Duality gap: 28.146277978095412, tolerance: 0.015249836065573771\n",
      "  positive)\n",
      "C:\\Users\\Public\\Anaconda\\lib\\site-packages\\sklearn\\linear_model\\_coordinate_descent.py:476: ConvergenceWarning: Objective did not converge. You might want to increase the number of iterations. Duality gap: 21.224948579928935, tolerance: 0.012479508196721311\n",
      "  positive)\n",
      "C:\\Users\\Public\\Anaconda\\lib\\site-packages\\sklearn\\linear_model\\_coordinate_descent.py:476: ConvergenceWarning: Objective did not converge. You might want to increase the number of iterations. Duality gap: 28.019514933334, tolerance: 0.012479508196721311\n",
      "  positive)\n",
      "C:\\Users\\Public\\Anaconda\\lib\\site-packages\\sklearn\\linear_model\\_coordinate_descent.py:476: ConvergenceWarning: Objective did not converge. You might want to increase the number of iterations. Duality gap: 38.086461286966596, tolerance: 0.015141871921182276\n",
      "  positive)\n",
      "C:\\Users\\Public\\Anaconda\\lib\\site-packages\\sklearn\\linear_model\\_coordinate_descent.py:476: ConvergenceWarning: Objective did not converge. You might want to increase the number of iterations. Duality gap: 36.35330304934615, tolerance: 0.015141871921182276\n",
      "  positive)\n",
      "C:\\Users\\Public\\Anaconda\\lib\\site-packages\\sklearn\\linear_model\\_coordinate_descent.py:476: ConvergenceWarning: Objective did not converge. You might want to increase the number of iterations. Duality gap: 35.15063131883457, tolerance: 0.015249836065573771\n",
      "  positive)\n",
      "C:\\Users\\Public\\Anaconda\\lib\\site-packages\\sklearn\\linear_model\\_coordinate_descent.py:476: ConvergenceWarning: Objective did not converge. You might want to increase the number of iterations. Duality gap: 27.719155522776646, tolerance: 0.012479508196721311\n",
      "  positive)\n",
      "C:\\Users\\Public\\Anaconda\\lib\\site-packages\\sklearn\\linear_model\\_coordinate_descent.py:476: ConvergenceWarning: Objective did not converge. You might want to increase the number of iterations. Duality gap: 33.79568482984993, tolerance: 0.012479508196721311\n",
      "  positive)\n",
      "C:\\Users\\Public\\Anaconda\\lib\\site-packages\\sklearn\\linear_model\\_coordinate_descent.py:476: ConvergenceWarning: Objective did not converge. You might want to increase the number of iterations. Duality gap: 42.653979064941026, tolerance: 0.015141871921182276\n",
      "  positive)\n",
      "C:\\Users\\Public\\Anaconda\\lib\\site-packages\\sklearn\\linear_model\\_coordinate_descent.py:476: ConvergenceWarning: Objective did not converge. You might want to increase the number of iterations. Duality gap: 41.072730337035715, tolerance: 0.015141871921182276\n",
      "  positive)\n",
      "C:\\Users\\Public\\Anaconda\\lib\\site-packages\\sklearn\\linear_model\\_coordinate_descent.py:476: ConvergenceWarning: Objective did not converge. You might want to increase the number of iterations. Duality gap: 39.84510036427372, tolerance: 0.015249836065573771\n",
      "  positive)\n",
      "C:\\Users\\Public\\Anaconda\\lib\\site-packages\\sklearn\\linear_model\\_coordinate_descent.py:476: ConvergenceWarning: Objective did not converge. You might want to increase the number of iterations. Duality gap: 32.078850164362905, tolerance: 0.012479508196721311\n",
      "  positive)\n",
      "C:\\Users\\Public\\Anaconda\\lib\\site-packages\\sklearn\\linear_model\\_coordinate_descent.py:476: ConvergenceWarning: Objective did not converge. You might want to increase the number of iterations. Duality gap: 37.439879078891906, tolerance: 0.012479508196721311\n",
      "  positive)\n",
      "C:\\Users\\Public\\Anaconda\\lib\\site-packages\\sklearn\\linear_model\\_coordinate_descent.py:476: ConvergenceWarning: Objective did not converge. You might want to increase the number of iterations. Duality gap: 46.05282307700023, tolerance: 0.015141871921182276\n",
      "  positive)\n",
      "C:\\Users\\Public\\Anaconda\\lib\\site-packages\\sklearn\\linear_model\\_coordinate_descent.py:476: ConvergenceWarning: Objective did not converge. You might want to increase the number of iterations. Duality gap: 44.58586872616261, tolerance: 0.015141871921182276\n",
      "  positive)\n",
      "C:\\Users\\Public\\Anaconda\\lib\\site-packages\\sklearn\\linear_model\\_coordinate_descent.py:476: ConvergenceWarning: Objective did not converge. You might want to increase the number of iterations. Duality gap: 43.34073033025795, tolerance: 0.015249836065573771\n",
      "  positive)\n",
      "C:\\Users\\Public\\Anaconda\\lib\\site-packages\\sklearn\\linear_model\\_coordinate_descent.py:476: ConvergenceWarning: Objective did not converge. You might want to increase the number of iterations. Duality gap: 35.29586633932606, tolerance: 0.012479508196721311\n",
      "  positive)\n"
     ]
    },
    {
     "name": "stdout",
     "output_type": "stream",
     "text": [
      "Best parameters:\n",
      "{'alpha': 0.25, 'l1_ratio': 0.25}\n",
      "Bestr2: -0.06599512785705301\n",
      "Test classification report:\n",
      "Test R2 score:0.3561773945421708\n",
      "Test AUC-ROC:0.9012345679012346\n"
     ]
    },
    {
     "name": "stderr",
     "output_type": "stream",
     "text": [
      "C:\\Users\\Public\\Anaconda\\lib\\site-packages\\sklearn\\linear_model\\_coordinate_descent.py:476: ConvergenceWarning: Objective did not converge. You might want to increase the number of iterations. Duality gap: 40.0544137861706, tolerance: 0.012479508196721311\n",
      "  positive)\n"
     ]
    }
   ],
   "source": [
    "#Code to train Elastic net logistic regression model on Genotype data using 5-fold cross validation\n",
    "\n",
    "from sklearn.model_selection import GridSearchCV\n",
    "from sklearn.linear_model import ElasticNet\n",
    "from sklearn.metrics import r2_score\n",
    "from sklearn.metrics import roc_auc_score\n",
    "\n",
    "scoring = 'r2'\n",
    "model_1 = ElasticNet(max_iter = 10000)\n",
    "hp = {'alpha':[0.25, 0.5, 0.75, 1], 'l1_ratio':[0, 0.25, 0.5, 0.75, 1]}\n",
    "clf = GridSearchCV(model_1, param_grid = hp, scoring = scoring)\n",
    "clf.fit(train_X_np, train_Y1_np[:,0])\n",
    "\n",
    "print('Best parameters:')\n",
    "print(clf.best_params_)\n",
    "print('Best' + scoring + ': ' + str(clf.best_score_))\n",
    "\n",
    "print('Test classification report:')\n",
    "y_true = test_Y1_np[:,0]\n",
    "y_pred = clf.predict(test_X_np)\n",
    "print('Test R2 score:' + str(r2_score(y_true, y_pred)))\n",
    "\n",
    "print('Test AUC-ROC:' + str(roc_auc_score(y_true, y_pred)))"
   ]
  },
  {
   "cell_type": "markdown",
   "metadata": {},
   "source": [
    "#### b. Treatment Behaviour"
   ]
  },
  {
   "cell_type": "code",
   "execution_count": 15,
   "metadata": {},
   "outputs": [
    {
     "name": "stderr",
     "output_type": "stream",
     "text": [
      "C:\\Users\\Public\\Anaconda\\lib\\site-packages\\sklearn\\linear_model\\_coordinate_descent.py:476: ConvergenceWarning: Objective did not converge. You might want to increase the number of iterations. Duality gap: 20.017516863004094, tolerance: 0.008689655172413796\n",
      "  positive)\n",
      "C:\\Users\\Public\\Anaconda\\lib\\site-packages\\sklearn\\linear_model\\_coordinate_descent.py:476: ConvergenceWarning: Objective did not converge. You might want to increase the number of iterations. Duality gap: 22.487666790202237, tolerance: 0.014187192118226603\n",
      "  positive)\n",
      "C:\\Users\\Public\\Anaconda\\lib\\site-packages\\sklearn\\linear_model\\_coordinate_descent.py:476: ConvergenceWarning: Objective did not converge. You might want to increase the number of iterations. Duality gap: 31.046479942371658, tolerance: 0.01351081967213115\n",
      "  positive)\n",
      "C:\\Users\\Public\\Anaconda\\lib\\site-packages\\sklearn\\linear_model\\_coordinate_descent.py:476: ConvergenceWarning: Objective did not converge. You might want to increase the number of iterations. Duality gap: 25.17422369667412, tolerance: 0.01094770491803279\n",
      "  positive)\n",
      "C:\\Users\\Public\\Anaconda\\lib\\site-packages\\sklearn\\linear_model\\_coordinate_descent.py:476: ConvergenceWarning: Objective did not converge. You might want to increase the number of iterations. Duality gap: 28.350628797874503, tolerance: 0.014200819672131148\n",
      "  positive)\n",
      "C:\\Users\\Public\\Anaconda\\lib\\site-packages\\sklearn\\linear_model\\_coordinate_descent.py:476: ConvergenceWarning: Objective did not converge. You might want to increase the number of iterations. Duality gap: 23.13254843714457, tolerance: 0.008689655172413796\n",
      "  positive)\n",
      "C:\\Users\\Public\\Anaconda\\lib\\site-packages\\sklearn\\linear_model\\_coordinate_descent.py:476: ConvergenceWarning: Objective did not converge. You might want to increase the number of iterations. Duality gap: 27.453338899135183, tolerance: 0.014187192118226603\n",
      "  positive)\n",
      "C:\\Users\\Public\\Anaconda\\lib\\site-packages\\sklearn\\linear_model\\_coordinate_descent.py:476: ConvergenceWarning: Objective did not converge. You might want to increase the number of iterations. Duality gap: 36.671430400461205, tolerance: 0.01351081967213115\n",
      "  positive)\n",
      "C:\\Users\\Public\\Anaconda\\lib\\site-packages\\sklearn\\linear_model\\_coordinate_descent.py:476: ConvergenceWarning: Objective did not converge. You might want to increase the number of iterations. Duality gap: 30.30713344429068, tolerance: 0.01094770491803279\n",
      "  positive)\n",
      "C:\\Users\\Public\\Anaconda\\lib\\site-packages\\sklearn\\linear_model\\_coordinate_descent.py:476: ConvergenceWarning: Objective did not converge. You might want to increase the number of iterations. Duality gap: 33.60143263975352, tolerance: 0.014200819672131148\n",
      "  positive)\n",
      "C:\\Users\\Public\\Anaconda\\lib\\site-packages\\sklearn\\linear_model\\_coordinate_descent.py:476: ConvergenceWarning: Objective did not converge. You might want to increase the number of iterations. Duality gap: 25.104898060322952, tolerance: 0.008689655172413796\n",
      "  positive)\n",
      "C:\\Users\\Public\\Anaconda\\lib\\site-packages\\sklearn\\linear_model\\_coordinate_descent.py:476: ConvergenceWarning: Objective did not converge. You might want to increase the number of iterations. Duality gap: 30.933263615975957, tolerance: 0.014187192118226603\n",
      "  positive)\n",
      "C:\\Users\\Public\\Anaconda\\lib\\site-packages\\sklearn\\linear_model\\_coordinate_descent.py:476: ConvergenceWarning: Objective did not converge. You might want to increase the number of iterations. Duality gap: 40.21995559639597, tolerance: 0.01351081967213115\n",
      "  positive)\n",
      "C:\\Users\\Public\\Anaconda\\lib\\site-packages\\sklearn\\linear_model\\_coordinate_descent.py:476: ConvergenceWarning: Objective did not converge. You might want to increase the number of iterations. Duality gap: 33.497969203486754, tolerance: 0.01094770491803279\n",
      "  positive)\n",
      "C:\\Users\\Public\\Anaconda\\lib\\site-packages\\sklearn\\linear_model\\_coordinate_descent.py:476: ConvergenceWarning: Objective did not converge. You might want to increase the number of iterations. Duality gap: 36.95648208493912, tolerance: 0.014200819672131148\n",
      "  positive)\n",
      "C:\\Users\\Public\\Anaconda\\lib\\site-packages\\sklearn\\linear_model\\_coordinate_descent.py:476: ConvergenceWarning: Objective did not converge. You might want to increase the number of iterations. Duality gap: 26.536486540693193, tolerance: 0.008689655172413796\n",
      "  positive)\n",
      "C:\\Users\\Public\\Anaconda\\lib\\site-packages\\sklearn\\linear_model\\_coordinate_descent.py:476: ConvergenceWarning: Objective did not converge. You might want to increase the number of iterations. Duality gap: 33.627020890375206, tolerance: 0.014187192118226603\n",
      "  positive)\n",
      "C:\\Users\\Public\\Anaconda\\lib\\site-packages\\sklearn\\linear_model\\_coordinate_descent.py:476: ConvergenceWarning: Objective did not converge. You might want to increase the number of iterations. Duality gap: 42.772972320258354, tolerance: 0.01351081967213115\n",
      "  positive)\n",
      "C:\\Users\\Public\\Anaconda\\lib\\site-packages\\sklearn\\linear_model\\_coordinate_descent.py:476: ConvergenceWarning: Objective did not converge. You might want to increase the number of iterations. Duality gap: 35.763851318604964, tolerance: 0.01094770491803279\n",
      "  positive)\n",
      "C:\\Users\\Public\\Anaconda\\lib\\site-packages\\sklearn\\linear_model\\_coordinate_descent.py:476: ConvergenceWarning: Objective did not converge. You might want to increase the number of iterations. Duality gap: 39.41275777646176, tolerance: 0.014200819672131148\n",
      "  positive)\n",
      "C:\\Users\\Public\\Anaconda\\lib\\site-packages\\sklearn\\linear_model\\_coordinate_descent.py:476: ConvergenceWarning: Objective did not converge. You might want to increase the number of iterations. Duality gap: 37.415135673207516, tolerance: 0.01585629921259842\n",
      "  positive)\n"
     ]
    },
    {
     "name": "stdout",
     "output_type": "stream",
     "text": [
      "------------Class 1----------\n",
      "Best parameters:\n",
      "{'alpha': 0.25, 'l1_ratio': 0}\n",
      "Bestr2: -0.28303486792541327\n",
      "Test classification report:\n",
      "Test R2 score:0.42798344512540454\n",
      "Test AUC-ROC:0.9213131313131313\n",
      "-----------------------------\n"
     ]
    },
    {
     "name": "stderr",
     "output_type": "stream",
     "text": [
      "C:\\Users\\Public\\Anaconda\\lib\\site-packages\\sklearn\\linear_model\\_coordinate_descent.py:476: ConvergenceWarning: Objective did not converge. You might want to increase the number of iterations. Duality gap: 16.41456419940708, tolerance: 0.013146798029556652\n",
      "  positive)\n",
      "C:\\Users\\Public\\Anaconda\\lib\\site-packages\\sklearn\\linear_model\\_coordinate_descent.py:476: ConvergenceWarning: Objective did not converge. You might want to increase the number of iterations. Duality gap: 14.587582208604417, tolerance: 0.011456157635467984\n",
      "  positive)\n",
      "C:\\Users\\Public\\Anaconda\\lib\\site-packages\\sklearn\\linear_model\\_coordinate_descent.py:476: ConvergenceWarning: Objective did not converge. You might want to increase the number of iterations. Duality gap: 6.460785673004617, tolerance: 0.014200819672131144\n",
      "  positive)\n",
      "C:\\Users\\Public\\Anaconda\\lib\\site-packages\\sklearn\\linear_model\\_coordinate_descent.py:476: ConvergenceWarning: Objective did not converge. You might want to increase the number of iterations. Duality gap: 12.489711219657949, tolerance: 0.01156147540983606\n",
      "  positive)\n",
      "C:\\Users\\Public\\Anaconda\\lib\\site-packages\\sklearn\\linear_model\\_coordinate_descent.py:476: ConvergenceWarning: Objective did not converge. You might want to increase the number of iterations. Duality gap: 16.285344416296475, tolerance: 0.01247950819672131\n",
      "  positive)\n",
      "C:\\Users\\Public\\Anaconda\\lib\\site-packages\\sklearn\\linear_model\\_coordinate_descent.py:476: ConvergenceWarning: Objective did not converge. You might want to increase the number of iterations. Duality gap: 20.31546497241345, tolerance: 0.013146798029556652\n",
      "  positive)\n",
      "C:\\Users\\Public\\Anaconda\\lib\\site-packages\\sklearn\\linear_model\\_coordinate_descent.py:476: ConvergenceWarning: Objective did not converge. You might want to increase the number of iterations. Duality gap: 18.046871702650414, tolerance: 0.011456157635467984\n",
      "  positive)\n",
      "C:\\Users\\Public\\Anaconda\\lib\\site-packages\\sklearn\\linear_model\\_coordinate_descent.py:476: ConvergenceWarning: Objective did not converge. You might want to increase the number of iterations. Duality gap: 9.247979547944162, tolerance: 0.014200819672131144\n",
      "  positive)\n",
      "C:\\Users\\Public\\Anaconda\\lib\\site-packages\\sklearn\\linear_model\\_coordinate_descent.py:476: ConvergenceWarning: Objective did not converge. You might want to increase the number of iterations. Duality gap: 16.355928777977024, tolerance: 0.01156147540983606\n",
      "  positive)\n",
      "C:\\Users\\Public\\Anaconda\\lib\\site-packages\\sklearn\\linear_model\\_coordinate_descent.py:476: ConvergenceWarning: Objective did not converge. You might want to increase the number of iterations. Duality gap: 20.066883549416055, tolerance: 0.01247950819672131\n",
      "  positive)\n",
      "C:\\Users\\Public\\Anaconda\\lib\\site-packages\\sklearn\\linear_model\\_coordinate_descent.py:476: ConvergenceWarning: Objective did not converge. You might want to increase the number of iterations. Duality gap: 23.03952259186693, tolerance: 0.013146798029556652\n",
      "  positive)\n",
      "C:\\Users\\Public\\Anaconda\\lib\\site-packages\\sklearn\\linear_model\\_coordinate_descent.py:476: ConvergenceWarning: Objective did not converge. You might want to increase the number of iterations. Duality gap: 20.48553730796663, tolerance: 0.011456157635467984\n",
      "  positive)\n",
      "C:\\Users\\Public\\Anaconda\\lib\\site-packages\\sklearn\\linear_model\\_coordinate_descent.py:476: ConvergenceWarning: Objective did not converge. You might want to increase the number of iterations. Duality gap: 11.527338970143894, tolerance: 0.014200819672131144\n",
      "  positive)\n",
      "C:\\Users\\Public\\Anaconda\\lib\\site-packages\\sklearn\\linear_model\\_coordinate_descent.py:476: ConvergenceWarning: Objective did not converge. You might want to increase the number of iterations. Duality gap: 19.12626671825049, tolerance: 0.01156147540983606\n",
      "  positive)\n",
      "C:\\Users\\Public\\Anaconda\\lib\\site-packages\\sklearn\\linear_model\\_coordinate_descent.py:476: ConvergenceWarning: Objective did not converge. You might want to increase the number of iterations. Duality gap: 22.715958189464228, tolerance: 0.01247950819672131\n",
      "  positive)\n",
      "C:\\Users\\Public\\Anaconda\\lib\\site-packages\\sklearn\\linear_model\\_coordinate_descent.py:476: ConvergenceWarning: Objective did not converge. You might want to increase the number of iterations. Duality gap: 25.15689919868163, tolerance: 0.013146798029556652\n",
      "  positive)\n",
      "C:\\Users\\Public\\Anaconda\\lib\\site-packages\\sklearn\\linear_model\\_coordinate_descent.py:476: ConvergenceWarning: Objective did not converge. You might want to increase the number of iterations. Duality gap: 22.391190063283243, tolerance: 0.011456157635467984\n",
      "  positive)\n",
      "C:\\Users\\Public\\Anaconda\\lib\\site-packages\\sklearn\\linear_model\\_coordinate_descent.py:476: ConvergenceWarning: Objective did not converge. You might want to increase the number of iterations. Duality gap: 13.505335828932072, tolerance: 0.014200819672131144\n",
      "  positive)\n",
      "C:\\Users\\Public\\Anaconda\\lib\\site-packages\\sklearn\\linear_model\\_coordinate_descent.py:476: ConvergenceWarning: Objective did not converge. You might want to increase the number of iterations. Duality gap: 21.306912095130635, tolerance: 0.01156147540983606\n",
      "  positive)\n",
      "C:\\Users\\Public\\Anaconda\\lib\\site-packages\\sklearn\\linear_model\\_coordinate_descent.py:476: ConvergenceWarning: Objective did not converge. You might want to increase the number of iterations. Duality gap: 24.782464164796167, tolerance: 0.01247950819672131\n",
      "  positive)\n",
      "C:\\Users\\Public\\Anaconda\\lib\\site-packages\\sklearn\\linear_model\\_coordinate_descent.py:476: ConvergenceWarning: Objective did not converge. You might want to increase the number of iterations. Duality gap: 24.14520976471914, tolerance: 0.015856299212598422\n",
      "  positive)\n"
     ]
    },
    {
     "name": "stdout",
     "output_type": "stream",
     "text": [
      "------------Class 2----------\n",
      "Best parameters:\n",
      "{'alpha': 0.5, 'l1_ratio': 0}\n",
      "Bestr2: 0.4996126646033524\n",
      "Test classification report:\n",
      "Test R2 score:0.5738636569509055\n",
      "Test AUC-ROC:0.9690909090909091\n",
      "-----------------------------\n"
     ]
    },
    {
     "name": "stderr",
     "output_type": "stream",
     "text": [
      "C:\\Users\\Public\\Anaconda\\lib\\site-packages\\sklearn\\linear_model\\_coordinate_descent.py:476: ConvergenceWarning: Objective did not converge. You might want to increase the number of iterations. Duality gap: 18.483207769057927, tolerance: 0.01267980295566502\n",
      "  positive)\n",
      "C:\\Users\\Public\\Anaconda\\lib\\site-packages\\sklearn\\linear_model\\_coordinate_descent.py:476: ConvergenceWarning: Objective did not converge. You might want to increase the number of iterations. Duality gap: 15.757289567236125, tolerance: 0.00829064039408867\n",
      "  positive)\n",
      "C:\\Users\\Public\\Anaconda\\lib\\site-packages\\sklearn\\linear_model\\_coordinate_descent.py:476: ConvergenceWarning: Objective did not converge. You might want to increase the number of iterations. Duality gap: 24.29999664578435, tolerance: 0.011610491803278689\n",
      "  positive)\n",
      "C:\\Users\\Public\\Anaconda\\lib\\site-packages\\sklearn\\linear_model\\_coordinate_descent.py:476: ConvergenceWarning: Objective did not converge. You might want to increase the number of iterations. Duality gap: 19.67780573780689, tolerance: 0.012688524590163935\n",
      "  positive)\n",
      "C:\\Users\\Public\\Anaconda\\lib\\site-packages\\sklearn\\linear_model\\_coordinate_descent.py:476: ConvergenceWarning: Objective did not converge. You might want to increase the number of iterations. Duality gap: 19.1977330508341, tolerance: 0.008692622950819668\n",
      "  positive)\n",
      "C:\\Users\\Public\\Anaconda\\lib\\site-packages\\sklearn\\linear_model\\_coordinate_descent.py:476: ConvergenceWarning: Objective did not converge. You might want to increase the number of iterations. Duality gap: 22.212002469178046, tolerance: 0.01267980295566502\n",
      "  positive)\n",
      "C:\\Users\\Public\\Anaconda\\lib\\site-packages\\sklearn\\linear_model\\_coordinate_descent.py:476: ConvergenceWarning: Objective did not converge. You might want to increase the number of iterations. Duality gap: 18.815312031517763, tolerance: 0.00829064039408867\n",
      "  positive)\n",
      "C:\\Users\\Public\\Anaconda\\lib\\site-packages\\sklearn\\linear_model\\_coordinate_descent.py:476: ConvergenceWarning: Objective did not converge. You might want to increase the number of iterations. Duality gap: 28.130738840764952, tolerance: 0.011610491803278689\n",
      "  positive)\n",
      "C:\\Users\\Public\\Anaconda\\lib\\site-packages\\sklearn\\linear_model\\_coordinate_descent.py:476: ConvergenceWarning: Objective did not converge. You might want to increase the number of iterations. Duality gap: 23.761946719534436, tolerance: 0.012688524590163935\n",
      "  positive)\n",
      "C:\\Users\\Public\\Anaconda\\lib\\site-packages\\sklearn\\linear_model\\_coordinate_descent.py:476: ConvergenceWarning: Objective did not converge. You might want to increase the number of iterations. Duality gap: 22.36504138194195, tolerance: 0.008692622950819668\n",
      "  positive)\n",
      "C:\\Users\\Public\\Anaconda\\lib\\site-packages\\sklearn\\linear_model\\_coordinate_descent.py:476: ConvergenceWarning: Objective did not converge. You might want to increase the number of iterations. Duality gap: 24.797228687693266, tolerance: 0.01267980295566502\n",
      "  positive)\n",
      "C:\\Users\\Public\\Anaconda\\lib\\site-packages\\sklearn\\linear_model\\_coordinate_descent.py:476: ConvergenceWarning: Objective did not converge. You might want to increase the number of iterations. Duality gap: 20.888521622445385, tolerance: 0.00829064039408867\n",
      "  positive)\n",
      "C:\\Users\\Public\\Anaconda\\lib\\site-packages\\sklearn\\linear_model\\_coordinate_descent.py:476: ConvergenceWarning: Objective did not converge. You might want to increase the number of iterations. Duality gap: 30.491141519981568, tolerance: 0.011610491803278689\n",
      "  positive)\n",
      "C:\\Users\\Public\\Anaconda\\lib\\site-packages\\sklearn\\linear_model\\_coordinate_descent.py:476: ConvergenceWarning: Objective did not converge. You might want to increase the number of iterations. Duality gap: 26.425959697538254, tolerance: 0.012688524590163935\n",
      "  positive)\n",
      "C:\\Users\\Public\\Anaconda\\lib\\site-packages\\sklearn\\linear_model\\_coordinate_descent.py:476: ConvergenceWarning: Objective did not converge. You might want to increase the number of iterations. Duality gap: 24.312886258109618, tolerance: 0.008692622950819668\n",
      "  positive)\n",
      "C:\\Users\\Public\\Anaconda\\lib\\site-packages\\sklearn\\linear_model\\_coordinate_descent.py:476: ConvergenceWarning: Objective did not converge. You might want to increase the number of iterations. Duality gap: 26.824121235028734, tolerance: 0.01267980295566502\n",
      "  positive)\n",
      "C:\\Users\\Public\\Anaconda\\lib\\site-packages\\sklearn\\linear_model\\_coordinate_descent.py:476: ConvergenceWarning: Objective did not converge. You might want to increase the number of iterations. Duality gap: 22.45977301377687, tolerance: 0.00829064039408867\n",
      "  positive)\n",
      "C:\\Users\\Public\\Anaconda\\lib\\site-packages\\sklearn\\linear_model\\_coordinate_descent.py:476: ConvergenceWarning: Objective did not converge. You might want to increase the number of iterations. Duality gap: 32.19662102266167, tolerance: 0.011610491803278689\n",
      "  positive)\n",
      "C:\\Users\\Public\\Anaconda\\lib\\site-packages\\sklearn\\linear_model\\_coordinate_descent.py:476: ConvergenceWarning: Objective did not converge. You might want to increase the number of iterations. Duality gap: 28.434605201410154, tolerance: 0.012688524590163935\n",
      "  positive)\n",
      "C:\\Users\\Public\\Anaconda\\lib\\site-packages\\sklearn\\linear_model\\_coordinate_descent.py:476: ConvergenceWarning: Objective did not converge. You might want to increase the number of iterations. Duality gap: 25.710824514773137, tolerance: 0.008692622950819668\n",
      "  positive)\n",
      "C:\\Users\\Public\\Anaconda\\lib\\site-packages\\sklearn\\linear_model\\_coordinate_descent.py:476: ConvergenceWarning: Objective did not converge. You might want to increase the number of iterations. Duality gap: 28.169036416945556, tolerance: 0.013748031496062999\n",
      "  positive)\n"
     ]
    },
    {
     "name": "stdout",
     "output_type": "stream",
     "text": [
      "------------Class 3----------\n",
      "Best parameters:\n",
      "{'alpha': 0.25, 'l1_ratio': 0}\n",
      "Bestr2: 0.08894883024037226\n",
      "Test classification report:\n",
      "Test R2 score:0.5656524611660767\n",
      "Test AUC-ROC:0.9814141414141414\n",
      "-----------------------------\n"
     ]
    },
    {
     "name": "stderr",
     "output_type": "stream",
     "text": [
      "C:\\Users\\Public\\Anaconda\\lib\\site-packages\\sklearn\\linear_model\\_coordinate_descent.py:476: ConvergenceWarning: Objective did not converge. You might want to increase the number of iterations. Duality gap: 21.82045215629424, tolerance: 0.010338916256157632\n",
      "  positive)\n",
      "C:\\Users\\Public\\Anaconda\\lib\\site-packages\\sklearn\\linear_model\\_coordinate_descent.py:476: ConvergenceWarning: Objective did not converge. You might want to increase the number of iterations. Duality gap: 20.69568470918723, tolerance: 0.010338916256157632\n",
      "  positive)\n",
      "C:\\Users\\Public\\Anaconda\\lib\\site-packages\\sklearn\\linear_model\\_coordinate_descent.py:476: ConvergenceWarning: Objective did not converge. You might want to increase the number of iterations. Duality gap: 6.734715996920691, tolerance: 0.0025804918032786887\n",
      "  positive)\n",
      "C:\\Users\\Public\\Anaconda\\lib\\site-packages\\sklearn\\linear_model\\_coordinate_descent.py:476: ConvergenceWarning: Objective did not converge. You might want to increase the number of iterations. Duality gap: 16.68027878209454, tolerance: 0.010343606557377052\n",
      "  positive)\n",
      "C:\\Users\\Public\\Anaconda\\lib\\site-packages\\sklearn\\linear_model\\_coordinate_descent.py:476: ConvergenceWarning: Objective did not converge. You might want to increase the number of iterations. Duality gap: 17.036577310541766, tolerance: 0.008692622950819672\n",
      "  positive)\n",
      "C:\\Users\\Public\\Anaconda\\lib\\site-packages\\sklearn\\linear_model\\_coordinate_descent.py:476: ConvergenceWarning: Objective did not converge. You might want to increase the number of iterations. Duality gap: 26.20523204854152, tolerance: 0.010338916256157632\n",
      "  positive)\n",
      "C:\\Users\\Public\\Anaconda\\lib\\site-packages\\sklearn\\linear_model\\_coordinate_descent.py:476: ConvergenceWarning: Objective did not converge. You might want to increase the number of iterations. Duality gap: 25.23631325846981, tolerance: 0.010338916256157632\n",
      "  positive)\n",
      "C:\\Users\\Public\\Anaconda\\lib\\site-packages\\sklearn\\linear_model\\_coordinate_descent.py:476: ConvergenceWarning: Objective did not converge. You might want to increase the number of iterations. Duality gap: 8.011589070304575, tolerance: 0.0025804918032786887\n",
      "  positive)\n",
      "C:\\Users\\Public\\Anaconda\\lib\\site-packages\\sklearn\\linear_model\\_coordinate_descent.py:476: ConvergenceWarning: Objective did not converge. You might want to increase the number of iterations. Duality gap: 21.656992957977817, tolerance: 0.010343606557377052\n",
      "  positive)\n",
      "C:\\Users\\Public\\Anaconda\\lib\\site-packages\\sklearn\\linear_model\\_coordinate_descent.py:476: ConvergenceWarning: Objective did not converge. You might want to increase the number of iterations. Duality gap: 20.805659964746265, tolerance: 0.008692622950819672\n",
      "  positive)\n",
      "C:\\Users\\Public\\Anaconda\\lib\\site-packages\\sklearn\\linear_model\\_coordinate_descent.py:476: ConvergenceWarning: Objective did not converge. You might want to increase the number of iterations. Duality gap: 29.00580603276137, tolerance: 0.010338916256157632\n",
      "  positive)\n",
      "C:\\Users\\Public\\Anaconda\\lib\\site-packages\\sklearn\\linear_model\\_coordinate_descent.py:476: ConvergenceWarning: Objective did not converge. You might want to increase the number of iterations. Duality gap: 28.17188351246654, tolerance: 0.010338916256157632\n",
      "  positive)\n",
      "C:\\Users\\Public\\Anaconda\\lib\\site-packages\\sklearn\\linear_model\\_coordinate_descent.py:476: ConvergenceWarning: Objective did not converge. You might want to increase the number of iterations. Duality gap: 8.76065286907131, tolerance: 0.0025804918032786887\n",
      "  positive)\n",
      "C:\\Users\\Public\\Anaconda\\lib\\site-packages\\sklearn\\linear_model\\_coordinate_descent.py:476: ConvergenceWarning: Objective did not converge. You might want to increase the number of iterations. Duality gap: 25.0119924629659, tolerance: 0.010343606557377052\n",
      "  positive)\n",
      "C:\\Users\\Public\\Anaconda\\lib\\site-packages\\sklearn\\linear_model\\_coordinate_descent.py:476: ConvergenceWarning: Objective did not converge. You might want to increase the number of iterations. Duality gap: 23.238496427075724, tolerance: 0.008692622950819672\n",
      "  positive)\n",
      "C:\\Users\\Public\\Anaconda\\lib\\site-packages\\sklearn\\linear_model\\_coordinate_descent.py:476: ConvergenceWarning: Objective did not converge. You might want to increase the number of iterations. Duality gap: 31.036253323273865, tolerance: 0.010338916256157632\n",
      "  positive)\n",
      "C:\\Users\\Public\\Anaconda\\lib\\site-packages\\sklearn\\linear_model\\_coordinate_descent.py:476: ConvergenceWarning: Objective did not converge. You might want to increase the number of iterations. Duality gap: 30.310924427021707, tolerance: 0.010338916256157632\n",
      "  positive)\n",
      "C:\\Users\\Public\\Anaconda\\lib\\site-packages\\sklearn\\linear_model\\_coordinate_descent.py:476: ConvergenceWarning: Objective did not converge. You might want to increase the number of iterations. Duality gap: 9.2710086573809, tolerance: 0.0025804918032786887\n",
      "  positive)\n",
      "C:\\Users\\Public\\Anaconda\\lib\\site-packages\\sklearn\\linear_model\\_coordinate_descent.py:476: ConvergenceWarning: Objective did not converge. You might want to increase the number of iterations. Duality gap: 27.506550457018246, tolerance: 0.010343606557377052\n",
      "  positive)\n"
     ]
    },
    {
     "name": "stdout",
     "output_type": "stream",
     "text": [
      "------------Class 4----------\n",
      "Best parameters:\n",
      "{'alpha': 0.25, 'l1_ratio': 0.5}\n",
      "Bestr2: -0.3761279621142074\n",
      "Test classification report:\n",
      "Test R2 score:0.20393990408136553\n",
      "Test AUC-ROC:0.921604938271605\n",
      "-----------------------------\n"
     ]
    },
    {
     "name": "stderr",
     "output_type": "stream",
     "text": [
      "C:\\Users\\Public\\Anaconda\\lib\\site-packages\\sklearn\\linear_model\\_coordinate_descent.py:476: ConvergenceWarning: Objective did not converge. You might want to increase the number of iterations. Duality gap: 25.009232001776798, tolerance: 0.008692622950819672\n",
      "  positive)\n"
     ]
    }
   ],
   "source": [
    "from sklearn.model_selection import GridSearchCV\n",
    "from sklearn.linear_model import ElasticNet\n",
    "from sklearn.metrics import r2_score\n",
    "from sklearn.metrics import roc_auc_score\n",
    "\n",
    "scoring = 'r2'\n",
    "model_1 = ElasticNet(max_iter = 10000)\n",
    "hp = {'alpha':[0.25, 0.5, 0.75, 1], 'l1_ratio':[0, 0.25, 0.5, 0.75, 1]}\n",
    "clf = GridSearchCV(model_1, param_grid = hp, scoring = scoring)\n",
    "clf.fit(train_X_np, train_Y2_np[:,0])\n",
    "\n",
    "print('------------Class 1----------')\n",
    "print('Best parameters:')\n",
    "print(clf.best_params_)\n",
    "print('Best' + scoring + ': ' + str(clf.best_score_))\n",
    "\n",
    "print('Test classification report:')\n",
    "y_true = test_Y2_np[:,0]\n",
    "y_pred = clf.predict(test_X_np)\n",
    "print('Test R2 score:' + str(r2_score(y_true, y_pred)))\n",
    "\n",
    "print('Test AUC-ROC:' + str(roc_auc_score(y_true, y_pred)))\n",
    "print('-----------------------------')\n",
    "\n",
    "\n",
    "clf.fit(train_X_np, train_Y2_np[:,1])\n",
    "print('------------Class 2----------')\n",
    "print('Best parameters:')\n",
    "print(clf.best_params_)\n",
    "print('Best' + scoring + ': ' + str(clf.best_score_))\n",
    "\n",
    "print('Test classification report:')\n",
    "y_true = test_Y2_np[:,1]\n",
    "y_pred = clf.predict(test_X_np)\n",
    "print('Test R2 score:' + str(r2_score(y_true, y_pred)))\n",
    "\n",
    "print('Test AUC-ROC:' + str(roc_auc_score(y_true, y_pred)))\n",
    "print('-----------------------------')\n",
    "\n",
    "\n",
    "clf.fit(train_X_np, train_Y2_np[:,2])\n",
    "print('------------Class 3----------')\n",
    "print('Best parameters:')\n",
    "print(clf.best_params_)\n",
    "print('Best' + scoring + ': ' + str(clf.best_score_))\n",
    "\n",
    "print('Test classification report:')\n",
    "y_true = test_Y2_np[:,2]\n",
    "y_pred = clf.predict(test_X_np)\n",
    "print('Test R2 score:' + str(r2_score(y_true, y_pred)))\n",
    "\n",
    "print('Test AUC-ROC:' + str(roc_auc_score(y_true, y_pred)))\n",
    "print('-----------------------------')\n",
    "\n",
    "\n",
    "clf.fit(train_X_np, train_Y2_np[:,3])\n",
    "print('------------Class 4----------')\n",
    "print('Best parameters:')\n",
    "print(clf.best_params_)\n",
    "print('Best' + scoring + ': ' + str(clf.best_score_))\n",
    "\n",
    "print('Test classification report:')\n",
    "y_true = test_Y2_np[:,3]\n",
    "y_pred = clf.predict(test_X_np)\n",
    "print('Test R2 score:' + str(r2_score(y_true, y_pred)))\n",
    "\n",
    "print('Test AUC-ROC:' + str(roc_auc_score(y_true, y_pred)))\n",
    "print('-----------------------------')"
   ]
  },
  {
   "cell_type": "markdown",
   "metadata": {},
   "source": [
    "### Neural Network\n",
    "#### a. Genotype"
   ]
  },
  {
   "cell_type": "code",
   "execution_count": 16,
   "metadata": {},
   "outputs": [
    {
     "name": "stdout",
     "output_type": "stream",
     "text": [
      "Best parameters:\n",
      "{'hidden_layer_sizes': 7}\n",
      "Bestf1: 0.7787003303492078\n",
      "Test classification report:\n",
      "              precision    recall  f1-score   support\n",
      "\n",
      "         0.0       0.69      0.82      0.75        90\n",
      "         1.0       0.86      0.76      0.81       135\n",
      "\n",
      "    accuracy                           0.78       225\n",
      "   macro avg       0.78      0.79      0.78       225\n",
      "weighted avg       0.80      0.78      0.78       225\n",
      "\n",
      "Test AUC-ROC:0.7888888888888889\n"
     ]
    }
   ],
   "source": [
    "from sklearn.model_selection import GridSearchCV\n",
    "from sklearn.metrics import classification_report\n",
    "from sklearn.metrics import roc_auc_score\n",
    "from sklearn.neural_network import MLPClassifier\n",
    "\n",
    "scoring = 'f1'\n",
    "nn = MLPClassifier(solver='lbfgs', alpha=1e-5, random_state=1)\n",
    "hp = {'hidden_layer_sizes':[2, 5, 6, 7, 8, 10]}\n",
    "clf = GridSearchCV(nn, param_grid = hp, scoring = scoring)\n",
    "clf.fit(train_X_np, train_Y1_np[:,0])\n",
    "\n",
    "print('Best parameters:')\n",
    "print(clf.best_params_)\n",
    "print('Best' + scoring + ': ' + str(clf.best_score_))\n",
    "\n",
    "print('Test classification report:')\n",
    "y_true, y_pred = test_Y1_np[:,0], clf.predict(test_X_np)\n",
    "print(classification_report(y_true, y_pred))\n",
    "\n",
    "print('Test AUC-ROC:' + str(roc_auc_score(y_true, y_pred)))"
   ]
  },
  {
   "cell_type": "markdown",
   "metadata": {},
   "source": [
    "#### b. Treatment Behaviour"
   ]
  },
  {
   "cell_type": "code",
   "execution_count": 17,
   "metadata": {},
   "outputs": [
    {
     "name": "stderr",
     "output_type": "stream",
     "text": [
      "C:\\Users\\Public\\Anaconda\\lib\\site-packages\\sklearn\\neural_network\\_multilayer_perceptron.py:470: ConvergenceWarning: lbfgs failed to converge (status=1):\n",
      "STOP: TOTAL NO. of ITERATIONS REACHED LIMIT.\n",
      "\n",
      "Increase the number of iterations (max_iter) or scale the data as shown in:\n",
      "    https://scikit-learn.org/stable/modules/preprocessing.html\n",
      "  self.n_iter_ = _check_optimize_result(\"lbfgs\", opt_res, self.max_iter)\n",
      "C:\\Users\\Public\\Anaconda\\lib\\site-packages\\sklearn\\neural_network\\_multilayer_perceptron.py:470: ConvergenceWarning: lbfgs failed to converge (status=1):\n",
      "STOP: TOTAL NO. of ITERATIONS REACHED LIMIT.\n",
      "\n",
      "Increase the number of iterations (max_iter) or scale the data as shown in:\n",
      "    https://scikit-learn.org/stable/modules/preprocessing.html\n",
      "  self.n_iter_ = _check_optimize_result(\"lbfgs\", opt_res, self.max_iter)\n",
      "C:\\Users\\Public\\Anaconda\\lib\\site-packages\\sklearn\\neural_network\\_multilayer_perceptron.py:470: ConvergenceWarning: lbfgs failed to converge (status=1):\n",
      "STOP: TOTAL NO. of ITERATIONS REACHED LIMIT.\n",
      "\n",
      "Increase the number of iterations (max_iter) or scale the data as shown in:\n",
      "    https://scikit-learn.org/stable/modules/preprocessing.html\n",
      "  self.n_iter_ = _check_optimize_result(\"lbfgs\", opt_res, self.max_iter)\n"
     ]
    },
    {
     "name": "stdout",
     "output_type": "stream",
     "text": [
      "Best parameters:\n",
      "{'hidden_layer_sizes': 5}\n",
      "Bestaccuracy: 0.48006535947712414\n",
      "Test classification report:\n",
      "              precision    recall  f1-score   support\n",
      "\n",
      "           0       0.90      0.88      0.89        60\n",
      "           1       0.88      0.85      0.86        60\n",
      "           2       0.90      0.90      0.90        60\n",
      "           3       0.80      0.87      0.83        45\n",
      "\n",
      "   micro avg       0.87      0.88      0.87       225\n",
      "   macro avg       0.87      0.88      0.87       225\n",
      "weighted avg       0.87      0.88      0.87       225\n",
      " samples avg       0.87      0.88      0.87       225\n",
      "\n",
      "Test AUC-ROC:0.9161616161616161\n"
     ]
    },
    {
     "name": "stderr",
     "output_type": "stream",
     "text": [
      "C:\\Users\\Public\\Anaconda\\lib\\site-packages\\sklearn\\metrics\\_classification.py:1272: UndefinedMetricWarning: Precision and F-score are ill-defined and being set to 0.0 in samples with no predicted labels. Use `zero_division` parameter to control this behavior.\n",
      "  _warn_prf(average, modifier, msg_start, len(result))\n"
     ]
    }
   ],
   "source": [
    "from sklearn.model_selection import GridSearchCV\n",
    "from sklearn.metrics import classification_report\n",
    "from sklearn.metrics import roc_auc_score\n",
    "from sklearn.neural_network import MLPClassifier\n",
    "\n",
    "scoring = 'accuracy'\n",
    "nn = MLPClassifier(solver='lbfgs', alpha=1e-5, random_state=1)\n",
    "hp = {'hidden_layer_sizes':[2, 5, 6, 7, 8, 10]}\n",
    "clf = GridSearchCV(nn, param_grid = hp, scoring = scoring)\n",
    "clf.fit(train_X_np, train_Y2_np)\n",
    "\n",
    "print('Best parameters:')\n",
    "print(clf.best_params_)\n",
    "print('Best' + scoring + ': ' + str(clf.best_score_))\n",
    "\n",
    "print('Test classification report:')\n",
    "y_true, y_pred = test_Y2_np, clf.predict(test_X_np)\n",
    "print(classification_report(y_true, y_pred))\n",
    "\n",
    "print('Test AUC-ROC:' + str(roc_auc_score(y_true, y_pred)))"
   ]
  },
  {
   "cell_type": "markdown",
   "metadata": {},
   "source": [
    "### SVM\n",
    "#### a. Genotype"
   ]
  },
  {
   "cell_type": "code",
   "execution_count": 18,
   "metadata": {},
   "outputs": [
    {
     "name": "stdout",
     "output_type": "stream",
     "text": [
      "Best parameters:\n",
      "{'C': 3.5}\n",
      "Bestf1: 0.7914240872041926\n",
      "Test classification report:\n",
      "              precision    recall  f1-score   support\n",
      "\n",
      "         0.0       0.86      0.74      0.80        90\n",
      "         1.0       0.84      0.92      0.88       135\n",
      "\n",
      "    accuracy                           0.85       225\n",
      "   macro avg       0.85      0.83      0.84       225\n",
      "weighted avg       0.85      0.85      0.85       225\n",
      "\n",
      "Test AUC-ROC:0.8314814814814815\n"
     ]
    }
   ],
   "source": [
    "from sklearn.model_selection import GridSearchCV\n",
    "from sklearn.metrics import classification_report\n",
    "from sklearn.metrics import roc_auc_score\n",
    "from sklearn.svm import SVC\n",
    "\n",
    "scoring = 'f1'\n",
    "svm = SVC(gamma='auto')\n",
    "hp = {'C':[0.2, 0.5, 0.8, 1.0, 3.0, 3.5, 4.0, 5.0]}\n",
    "clf = GridSearchCV(svm, param_grid = hp, scoring = scoring)\n",
    "clf.fit(train_X_np, train_Y1_np[:,0])\n",
    "\n",
    "print('Best parameters:')\n",
    "print(clf.best_params_)\n",
    "print('Best' + scoring + ': ' + str(clf.best_score_))\n",
    "\n",
    "print('Test classification report:')\n",
    "y_true, y_pred = test_Y1_np[:,0], clf.predict(test_X_np)\n",
    "print(classification_report(y_true, y_pred))\n",
    "\n",
    "print('Test AUC-ROC:' + str(roc_auc_score(y_true, y_pred)))"
   ]
  },
  {
   "cell_type": "markdown",
   "metadata": {},
   "source": [
    "#### b. Treatment Behaviour"
   ]
  },
  {
   "cell_type": "code",
   "execution_count": 19,
   "metadata": {},
   "outputs": [
    {
     "name": "stdout",
     "output_type": "stream",
     "text": [
      "------------Class 1----------\n",
      "Best parameters:\n",
      "{'C': 5.0}\n",
      "Bestf1: 0.6687837972267612\n",
      "Test classification report:\n",
      "              precision    recall  f1-score   support\n",
      "\n",
      "         0.0       0.90      0.99      0.94       165\n",
      "         1.0       0.95      0.70      0.81        60\n",
      "\n",
      "    accuracy                           0.91       225\n",
      "   macro avg       0.93      0.84      0.87       225\n",
      "weighted avg       0.91      0.91      0.91       225\n",
      "\n",
      "Test AUC-ROC:0.843939393939394\n",
      "-----------------------------\n",
      "------------Class 2----------\n",
      "Best parameters:\n",
      "{'C': 1.0}\n",
      "Bestf1: 0.8472958548301014\n",
      "Test classification report:\n",
      "              precision    recall  f1-score   support\n",
      "\n",
      "         0.0       0.86      0.93      0.89       165\n",
      "         1.0       0.74      0.58      0.65        60\n",
      "\n",
      "    accuracy                           0.84       225\n",
      "   macro avg       0.80      0.76      0.77       225\n",
      "weighted avg       0.83      0.84      0.83       225\n",
      "\n",
      "Test AUC-ROC:0.7553030303030304\n",
      "-----------------------------\n",
      "------------Class 3----------\n",
      "Best parameters:\n",
      "{'C': 3.5}\n",
      "Bestf1: 0.6087818358666957\n",
      "Test classification report:\n",
      "              precision    recall  f1-score   support\n",
      "\n",
      "         0.0       0.95      0.99      0.97       165\n",
      "         1.0       0.96      0.85      0.90        60\n",
      "\n",
      "    accuracy                           0.95       225\n",
      "   macro avg       0.95      0.92      0.94       225\n",
      "weighted avg       0.95      0.95      0.95       225\n",
      "\n",
      "Test AUC-ROC:0.918939393939394\n",
      "-----------------------------\n",
      "------------Class 4----------\n",
      "Best parameters:\n",
      "{'C': 3.0}\n",
      "Bestf1: 0.7066707636133633\n",
      "Test classification report:\n",
      "              precision    recall  f1-score   support\n",
      "\n",
      "         0.0       0.96      0.94      0.95       180\n",
      "         1.0       0.79      0.84      0.82        45\n",
      "\n",
      "    accuracy                           0.92       225\n",
      "   macro avg       0.88      0.89      0.88       225\n",
      "weighted avg       0.93      0.92      0.93       225\n",
      "\n",
      "Test AUC-ROC:0.8944444444444445\n",
      "-----------------------------\n"
     ]
    }
   ],
   "source": [
    "from sklearn.model_selection import GridSearchCV\n",
    "from sklearn.metrics import classification_report\n",
    "from sklearn.metrics import roc_auc_score\n",
    "from sklearn.svm import SVC\n",
    "\n",
    "scoring = 'f1'\n",
    "svm = SVC(gamma='auto')\n",
    "hp = {'C':[0.2, 0.5, 0.8, 1.0, 3.0, 3.5, 4.0, 5.0]}\n",
    "clf = GridSearchCV(svm, param_grid = hp, scoring = scoring)\n",
    "clf.fit(train_X_np, train_Y2_np[:,0])\n",
    "\n",
    "print('------------Class 1----------')\n",
    "print('Best parameters:')\n",
    "print(clf.best_params_)\n",
    "print('Best' + scoring + ': ' + str(clf.best_score_))\n",
    "\n",
    "print('Test classification report:')\n",
    "y_true, y_pred = test_Y2_np[:,0], clf.predict(test_X_np)\n",
    "print(classification_report(y_true, y_pred))\n",
    "\n",
    "print('Test AUC-ROC:' + str(roc_auc_score(y_true, y_pred)))\n",
    "print('-----------------------------')\n",
    "\n",
    "\n",
    "clf.fit(train_X_np, train_Y2_np[:,1])\n",
    "\n",
    "print('------------Class 2----------')\n",
    "print('Best parameters:')\n",
    "print(clf.best_params_)\n",
    "print('Best' + scoring + ': ' + str(clf.best_score_))\n",
    "\n",
    "print('Test classification report:')\n",
    "y_true, y_pred = test_Y2_np[:,1], clf.predict(test_X_np)\n",
    "print(classification_report(y_true, y_pred))\n",
    "\n",
    "print('Test AUC-ROC:' + str(roc_auc_score(y_true, y_pred)))\n",
    "print('-----------------------------')\n",
    "\n",
    "\n",
    "clf.fit(train_X_np, train_Y2_np[:,2])\n",
    "\n",
    "print('------------Class 3----------')\n",
    "print('Best parameters:')\n",
    "print(clf.best_params_)\n",
    "print('Best' + scoring + ': ' + str(clf.best_score_))\n",
    "\n",
    "print('Test classification report:')\n",
    "y_true, y_pred = test_Y2_np[:,2], clf.predict(test_X_np)\n",
    "print(classification_report(y_true, y_pred))\n",
    "\n",
    "print('Test AUC-ROC:' + str(roc_auc_score(y_true, y_pred)))\n",
    "print('-----------------------------')\n",
    "\n",
    "\n",
    "clf.fit(train_X_np, train_Y2_np[:,3])\n",
    "\n",
    "print('------------Class 4----------')\n",
    "print('Best parameters:')\n",
    "print(clf.best_params_)\n",
    "print('Best' + scoring + ': ' + str(clf.best_score_))\n",
    "\n",
    "print('Test classification report:')\n",
    "y_true, y_pred = test_Y2_np[:,3], clf.predict(test_X_np)\n",
    "print(classification_report(y_true, y_pred))\n",
    "\n",
    "print('Test AUC-ROC:' + str(roc_auc_score(y_true, y_pred)))\n",
    "print('-----------------------------')"
   ]
  },
  {
   "cell_type": "markdown",
   "metadata": {},
   "source": [
    "### Random Forest\n",
    "#### a. Genotype"
   ]
  },
  {
   "cell_type": "code",
   "execution_count": 20,
   "metadata": {},
   "outputs": [
    {
     "name": "stdout",
     "output_type": "stream",
     "text": [
      "Best parameters:\n",
      "{'max_depth': 5, 'n_estimators': 100}\n",
      "Bestf1: 0.7485900411052467\n",
      "Test classification report:\n",
      "              precision    recall  f1-score   support\n",
      "\n",
      "         0.0       0.68      0.66      0.67        90\n",
      "         1.0       0.78      0.79      0.78       135\n",
      "\n",
      "    accuracy                           0.74       225\n",
      "   macro avg       0.73      0.72      0.73       225\n",
      "weighted avg       0.74      0.74      0.74       225\n",
      "\n",
      "Test AUC-ROC:0.7240740740740741\n"
     ]
    }
   ],
   "source": [
    "from sklearn.model_selection import GridSearchCV\n",
    "from sklearn.metrics import classification_report\n",
    "from sklearn.metrics import roc_auc_score\n",
    "from sklearn.ensemble import RandomForestClassifier\n",
    "\n",
    "scoring = 'f1'\n",
    "rfc = RandomForestClassifier()\n",
    "hp = {'max_depth':[2,5,10,20,25], 'n_estimators':[10,30,100]}\n",
    "clf = GridSearchCV(rfc, param_grid = hp, scoring = scoring)\n",
    "clf.fit(train_X_np, train_Y1_np[:,0])\n",
    "\n",
    "print('Best parameters:')\n",
    "print(clf.best_params_)\n",
    "print('Best' + scoring + ': ' + str(clf.best_score_))\n",
    "\n",
    "print('Test classification report:')\n",
    "y_true, y_pred = test_Y1_np[:,0], clf.predict(test_X_np)\n",
    "print(classification_report(y_true, y_pred))\n",
    "\n",
    "print('Test AUC-ROC:' + str(roc_auc_score(y_true, y_pred)))"
   ]
  },
  {
   "cell_type": "markdown",
   "metadata": {},
   "source": [
    "#### b. Treatment behaviour"
   ]
  },
  {
   "cell_type": "code",
   "execution_count": 21,
   "metadata": {},
   "outputs": [
    {
     "name": "stdout",
     "output_type": "stream",
     "text": [
      "Best parameters:\n",
      "{'max_depth': 35, 'n_estimators': 30}\n",
      "Bestaccuracy: 0.31744926040591676\n",
      "Test classification report:\n",
      "              precision    recall  f1-score   support\n",
      "\n",
      "           0       0.78      0.65      0.71        60\n",
      "           1       0.71      0.60      0.65        60\n",
      "           2       0.95      0.58      0.72        60\n",
      "           3       0.67      0.64      0.66        45\n",
      "\n",
      "   micro avg       0.77      0.62      0.68       225\n",
      "   macro avg       0.78      0.62      0.68       225\n",
      "weighted avg       0.78      0.62      0.69       225\n",
      " samples avg       0.62      0.62      0.62       225\n",
      "\n",
      "Test AUC-ROC:0.7787878787878788\n"
     ]
    },
    {
     "name": "stderr",
     "output_type": "stream",
     "text": [
      "C:\\Users\\Public\\Anaconda\\lib\\site-packages\\sklearn\\metrics\\_classification.py:1272: UndefinedMetricWarning: Precision and F-score are ill-defined and being set to 0.0 in samples with no predicted labels. Use `zero_division` parameter to control this behavior.\n",
      "  _warn_prf(average, modifier, msg_start, len(result))\n"
     ]
    }
   ],
   "source": [
    "from sklearn.model_selection import GridSearchCV\n",
    "from sklearn.metrics import classification_report\n",
    "from sklearn.metrics import roc_auc_score\n",
    "from sklearn.ensemble import RandomForestClassifier\n",
    "\n",
    "scoring = 'accuracy'\n",
    "rfc = RandomForestClassifier()\n",
    "hp = {'max_depth':[20,25,35], 'n_estimators':[30,100,150]}\n",
    "clf = GridSearchCV(rfc, param_grid = hp, scoring = scoring)\n",
    "clf.fit(train_X_np, train_Y2_np)\n",
    "\n",
    "print('Best parameters:')\n",
    "print(clf.best_params_)\n",
    "print('Best' + scoring + ': ' + str(clf.best_score_))\n",
    "\n",
    "print('Test classification report:')\n",
    "y_true, y_pred = test_Y2_np, clf.predict(test_X_np)\n",
    "print(classification_report(y_true, y_pred))\n",
    "\n",
    "print('Test AUC-ROC:' + str(roc_auc_score(y_true, y_pred)))"
   ]
  }
 ],
 "metadata": {
  "kernelspec": {
   "display_name": "Python 3 (ipykernel)",
   "language": "python",
   "name": "python3"
  },
  "language_info": {
   "codemirror_mode": {
    "name": "ipython",
    "version": 3
   },
   "file_extension": ".py",
   "mimetype": "text/x-python",
   "name": "python",
   "nbconvert_exporter": "python",
   "pygments_lexer": "ipython3",
   "version": "3.11.5"
  }
 },
 "nbformat": 4,
 "nbformat_minor": 4
}
